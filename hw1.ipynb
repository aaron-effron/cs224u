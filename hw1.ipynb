{
 "cells": [
  {
   "cell_type": "markdown",
   "metadata": {},
   "source": [
    "# Homework 1"
   ]
  },
  {
   "cell_type": "code",
   "execution_count": 2,
   "metadata": {},
   "outputs": [],
   "source": [
    "__author__ = \"Aaron Effron\"\n",
    "__version__ = \"CS224u, Stanford, Spring 2018 term\""
   ]
  },
  {
   "cell_type": "markdown",
   "metadata": {},
   "source": [
    "This homework covers material from the unit on distributed representations. The primary goal is to explore some new techniques for building and assessing VSMs. The code you write as part of the assignment should be useful for research involving vector representations as well.\n",
    "\n",
    "Like all homeworks, this should be submitted via Canvas. All you have to do is paste in your answers (which are all numerical values) and include the SUNetIds of anyone you worked with. Here's a direct link to the homework form:\n",
    "\n",
    "https://canvas.stanford.edu/courses/83399/quizzes/50268\n",
    "\n",
    "__Contents__\n",
    "\n",
    "0. [Questions 1–2: Dice distance [2 points]](#Questions-1–2:-Dice-distance-[2-points])\n",
    "0. [Question 3: t-test reweighting [2 points]](#Question-3:-t-test-reweighting-[2-points])\n",
    "0. [Questions 4–6: Reweighting and co-occurrence frequency [3 points]](#Questions-4–6:-Reweighting-and-co-occurrence-frequency-[3-points])\n",
    "0. [Question 7: Meeting the GloVe objective [1 point]](#Question-7:-Meeting-the-GloVe-objective-[1-point])\n",
    "0. [Question 8: Expressive eloooongation [2 points]](#Question-8:-Expressive-eloooongation-[2-points])"
   ]
  },
  {
   "cell_type": "code",
   "execution_count": 1,
   "metadata": {},
   "outputs": [
    {
     "name": "stderr",
     "output_type": "stream",
     "text": [
      "/Users/aaroneffron/anaconda3/envs/nlu/lib/python3.6/site-packages/h5py/__init__.py:36: FutureWarning: Conversion of the second argument of issubdtype from `float` to `np.floating` is deprecated. In future, it will be treated as `np.float64 == np.dtype(float).type`.\n",
      "  from ._conv import register_converters as _register_converters\n"
     ]
    }
   ],
   "source": [
    "import numpy as np\n",
    "import os\n",
    "import pandas as pd\n",
    "from mittens import GloVe\n",
    "from scipy.stats import pearsonr\n",
    "import vsm"
   ]
  },
  {
   "cell_type": "markdown",
   "metadata": {},
   "source": [
    "## Questions 1–2: Dice distance [2 points]"
   ]
  },
  {
   "cell_type": "markdown",
   "metadata": {},
   "source": [
    "First, implement [Dice distance](https://en.wikipedia.org/wiki/Sørensen–Dice_coefficient) for real-valued vectors of dimension $n$, as\n",
    "\n",
    "$$\\textbf{dice}(u, v) = 1 - \\frac{\n",
    "    2 \\sum_{i=1}^{n}\\min(u_{i}, v_{i})\n",
    "}{\n",
    "    \\sum_{i=1}^{n} u_{i} + v_{i}\n",
    "}$$\n",
    "\n",
    "(You can use `vsm.matching` for part of this.)"
   ]
  },
  {
   "cell_type": "markdown",
   "metadata": {},
   "source": [
    "Second, you might want to test your implementation. Here's a simple function for that:"
   ]
  },
  {
   "cell_type": "code",
   "execution_count": 4,
   "metadata": {},
   "outputs": [
    {
     "name": "stdout",
     "output_type": "stream",
     "text": [
      "YAY\n"
     ]
    }
   ],
   "source": [
    "def diceDistance(u, v) :\n",
    "    num = 2 * vsm.matching(u, v)\n",
    "    denom = np.sum(u + v)\n",
    "\n",
    "    return 1 -  num/denom\n",
    "def test_dice_implementation(func):\n",
    "    \"\"\"`func` should be an implementation of `dice` as defined above.\"\"\"\n",
    "    X = np.array([\n",
    "        [  4.,   4.,   2.,   0.],\n",
    "        [  4.,  61.,   8.,  18.],\n",
    "        [  2.,   8.,  10.,   0.],\n",
    "        [  0.,  18.,   0.,   5.]]) \n",
    "    assert func(X[0], X[1]).round(5) == 0.80198\n",
    "    assert func(X[1], X[2]).round(5) == 0.67568\n",
    "    print(\"YAY\")\n",
    "\n",
    "test_dice_implementation(diceDistance)"
   ]
  },
  {
   "cell_type": "markdown",
   "metadata": {},
   "source": [
    "Third, use your implementation to measure the distance between A and B and between B and C in the toy `ABC` matrix we used in the first VSM notebook, repeated here for convenience."
   ]
  },
  {
   "cell_type": "code",
   "execution_count": 5,
   "metadata": {},
   "outputs": [
    {
     "name": "stdout",
     "output_type": "stream",
     "text": [
      "0.6129032258064516\n",
      "0.18367346938775508\n"
     ]
    }
   ],
   "source": [
    "ABC = pd.DataFrame([\n",
    "    [ 2.0,  4.0], \n",
    "    [10.0, 15.0], \n",
    "    [14.0, 10.0]],\n",
    "    index=['A', 'B', 'C'],\n",
    "    columns=['x', 'y']) \n",
    "\n",
    "ABC\n",
    "print(diceDistance(np.array(ABC.loc['A', :]), np.array(ABC.loc['B', :])))\n",
    "print(diceDistance(ABC.loc['B', :], ABC.loc['C', :]))"
   ]
  },
  {
   "cell_type": "markdown",
   "metadata": {},
   "source": [
    "__To submit:__\n",
    "\n",
    "1. Dice distance between A and B.\n",
    "2. Dice distance between B and C.\n",
    "\n",
    "(The real question, which these values answer, is whether this measure place A and B close together relative to B and C – our goal for that example.) "
   ]
  },
  {
   "cell_type": "markdown",
   "metadata": {},
   "source": [
    "## Question 3: t-test reweighting [2 points]"
   ]
  },
  {
   "cell_type": "markdown",
   "metadata": {},
   "source": [
    "The t-test statistic can be thought of as a reweighting scheme. For a count matrix $X$, row index $i$, and column index $j$:\n",
    "\n",
    "$$\\textbf{ttest}(X, i, j) = \n",
    "\\frac{\n",
    "    P(X, i, j) - \\big(P(X, i, *)P(X, *, j)\\big)\n",
    "}{\n",
    "\\sqrt{(P(X, i, *)P(X, *, j))}\n",
    "}$$\n",
    "\n",
    "where $P(X, i, j)$ is $X_{ij}$ divided by the total values in $X$, $P(X, i, *)$ is the sum of the values in row $i$ of $X$ divided by the total values in $X$, and $P(X, *, j)$ is the sum of the values in column $j$ of $X$ divided by the total values in $X$.\n",
    "\n",
    "First, implement this reweighting scheme."
   ]
  },
  {
   "cell_type": "markdown",
   "metadata": {},
   "source": [
    "Second, test your implementation:"
   ]
  },
  {
   "cell_type": "code",
   "execution_count": 7,
   "metadata": {},
   "outputs": [],
   "source": [
    "def ttest(X) :\n",
    "    output = pd.DataFrame.copy(X)\n",
    "    XCopy = pd.DataFrame.copy(X)\n",
    "    output[:] = 0\n",
    "    xSum = X.values.sum()\n",
    "\n",
    "    rowSums = np.sum(X, axis = 1)\n",
    "    rSums = pd.DataFrame.sum(X, axis = 1)\n",
    "    cSums = pd.DataFrame.sum(X, axis = 0)\n",
    "    rSums = pd.Series.to_frame(rSums)\n",
    "    cSums = pd.Series.to_frame(cSums)\n",
    "\n",
    "    numP2 = cSums.dot(rSums.transpose())/(xSum ** 2)\n",
    "    XCopy = XCopy / xSum\n",
    "    \n",
    "    num = XCopy - numP2\n",
    "    \n",
    "    denom = pd.DataFrame.copy(numP2)\n",
    "    denom = denom.applymap(np.sqrt)\n",
    "    \n",
    "    a =(XCopy - numP2).divide(denom)\n",
    "    return a\n",
    "\n",
    "    \n",
    "def test_ttest_implementation(func):\n",
    "    \"\"\"`func` should be an implementation of ttest reweighting as defined above.\"\"\"\n",
    "    X = pd.DataFrame(np.array([\n",
    "        [  4.,   4.,   2.,   0.],\n",
    "        [  4.,  61.,   8.,  18.],\n",
    "        [  2.,   8.,  10.,   0.],\n",
    "        [  0.,  18.,   0.,   5.]]))    \n",
    "    actual = np.array([\n",
    "        [ 0.33056, -0.07689,  0.04321, -0.10532],\n",
    "        [-0.07689,  0.03839, -0.10874,  0.07574],\n",
    "        [ 0.04321, -0.10874,  0.36111, -0.14894],\n",
    "        [-0.10532,  0.07574, -0.14894,  0.05767]])    \n",
    "    predicted = func(X)\n",
    "    #print(predicted)\n",
    "    assert np.array_equal(predicted.round(5), actual)\n",
    "\n",
    "test_ttest_implementation(ttest)"
   ]
  },
  {
   "cell_type": "markdown",
   "metadata": {},
   "source": [
    "Third, apply your implementation to the matrix stored in `imdb_window5-scaled.csv.gz`.\n",
    "\n",
    "__To submit__: the cell value for the row labeled _superb_ and the column labeled _movie_.\n",
    "\n",
    "(The goal here is really to obtain a working implementation of $\\textbf{ttest}$. It could be an ingredient in a winning bake-off entry!)"
   ]
  },
  {
   "cell_type": "code",
   "execution_count": 8,
   "metadata": {},
   "outputs": [
    {
     "name": "stdout",
     "output_type": "stream",
     "text": [
      "-0.000860316289838276\n",
      "-0.0008622356915489748\n"
     ]
    }
   ],
   "source": [
    "data_home = 'vsmdata'\n",
    "imdb5 = pd.read_csv(\n",
    "    os.path.join(data_home, 'imdb_window5-scaled.csv.gz'), index_col=0)\n",
    "\n",
    "predicted = ttest(imdb5)\n",
    "print(predicted.loc['superb', 'movie'])\n",
    "print(predicted['superb']['movie'])"
   ]
  },
  {
   "cell_type": "markdown",
   "metadata": {},
   "source": [
    "## Questions 4–6: Reweighting and co-occurrence frequency [3 points]\n",
    "\n",
    "We've seen that raw count matrices encode a lot of frequency information. This is not necessarily all bad (stronger words like _superb_ will be rarer than weak ones like _good_ in part because of their more specialized semantics), but we do hope that our reweighting schemes will get us away from these relatively mundane associations. Thus, for any reweighting scheme, we should ask about its correlation with the raw co-occurrence counts.\n",
    "\n",
    "Your task: using [scipy.stats.pearsonr](https://docs.scipy.org/doc/scipy/reference/generated/scipy.stats.pearsonr.html), calculate the Pearson correlation coefficient between the raw count values of `imdb5` as loaded in the previous question and the values obtained from applying PMI and Positive PMI to this matrix, and from reweighting each row by its length norm (as defined in the first noteboook for this unit; `vsm.length_norm`). Note: `X.values.ravel()` will give you the vector of values in the `pd.DataFrame` instance `X`."
   ]
  },
  {
   "cell_type": "markdown",
   "metadata": {
    "collapsed": true
   },
   "source": [
    "__To submit:__\n",
    "\n",
    "1. Correlation coefficient for the PMI comparison.\n",
    "1. Correlation coefficient for the Positive PMI comparison.\n",
    "1. Correlation coefficient for the length-norm comparison.\n",
    "\n",
    "(The hope is that seeing these values will give you a better sense for how these reweighting schemes compare to the input count matrices.)"
   ]
  },
  {
   "cell_type": "code",
   "execution_count": 4,
   "metadata": {},
   "outputs": [
    {
     "name": "stdout",
     "output_type": "stream",
     "text": [
      "(0.04498063308409067, 0.0)\n"
     ]
    }
   ],
   "source": [
    "from scipy import stats\n",
    "data_home = 'vsmdata'\n",
    "imdb5 = pd.read_csv(\n",
    "    os.path.join(data_home, 'imdb_window5-scaled.csv.gz'), index_col=0)\n",
    "\n",
    "imdb5_orig = pd.DataFrame.copy(imdb5)\n",
    "imdb5_ppmi = vsm.pmi(imdb5)\n",
    "\n",
    "a = imdb5_orig.values.ravel()\n",
    "b = imdb5_ppmi.values.ravel()\n",
    "print(stats.pearsonr(a, b))\n"
   ]
  },
  {
   "cell_type": "code",
   "execution_count": 3,
   "metadata": {},
   "outputs": [
    {
     "name": "stdout",
     "output_type": "stream",
     "text": [
      "(0.007653071529112714, 2.2613e-320)\n"
     ]
    }
   ],
   "source": [
    "from scipy import stats\n",
    "data_home = 'vsmdata'\n",
    "imdb5 = pd.read_csv(\n",
    "    os.path.join(data_home, 'imdb_window5-scaled.csv.gz'), index_col=0)\n",
    "\n",
    "imdb5_orig = pd.DataFrame.copy(imdb5)\n",
    "imdb5_pmi = vsm.pmi(imdb5, positive=False)\n",
    "\n",
    "a = imdb5_orig.values.ravel()\n",
    "b = imdb5_pmi.values.ravel()\n",
    "print(stats.pearsonr(a, b))"
   ]
  },
  {
   "cell_type": "code",
   "execution_count": 5,
   "metadata": {},
   "outputs": [
    {
     "name": "stdout",
     "output_type": "stream",
     "text": [
      "(0.12218662330676433, 0.0)\n"
     ]
    }
   ],
   "source": [
    "from scipy import stats\n",
    "data_home = 'vsmdata'\n",
    "imdb5 = pd.read_csv(\n",
    "    os.path.join(data_home, 'imdb_window5-scaled.csv.gz'), index_col=0)\n",
    "\n",
    "imdb5_orig = pd.DataFrame.copy(imdb5)\n",
    "imdb5_normed = imdb5.apply(vsm.length_norm, axis=1)\n",
    "\n",
    "a = imdb5_orig.values.ravel()\n",
    "b = imdb5_normed.values.ravel()\n",
    "print(stats.pearsonr(a, b))"
   ]
  },
  {
   "cell_type": "markdown",
   "metadata": {},
   "source": [
    "## Question 7: Meeting the GloVe objective [1 point]"
   ]
  },
  {
   "cell_type": "markdown",
   "metadata": {},
   "source": [
    "We saw that GloVe can be thought of as seeking vectors whose dot products are proportional to their PMI values. How close does GloVe come to this in practice? This question asks you to conduct a simple empirical assessment of that: \n",
    "\n",
    "1. Load the matrix stored as `imdb_window5-scaled.csv.gz` in the data distribution. Call this `imdb5`.\n",
    "2. Reweight `imdb5` with Positive PMI.\n",
    "3. Run GloVe on `imdb5` for 10 iterations, learning vectors of dimension 20 (`n=20`). Definitely use the implementation in the `mittens` package, not in `vsm.glove`, else this will take way too long. Except for `max_iter` and `n`, use all the default parameters.\n",
    "4. Report the correlation between the cell values in the PMI and GloVe versions. For this, you can include all 0 values (even though GloVe ignores them). Use `pearsonr` as above."
   ]
  },
  {
   "cell_type": "code",
   "execution_count": 10,
   "metadata": {},
   "outputs": [
    {
     "name": "stderr",
     "output_type": "stream",
     "text": [
      "\r",
      "Iteration 10: loss: 1469276.875"
     ]
    },
    {
     "name": "stdout",
     "output_type": "stream",
     "text": [
      "(0.003606247014717652, 1.1067349896953183e-72)\n"
     ]
    }
   ],
   "source": [
    "from scipy import stats\n",
    "data_home = 'vsmdata'\n",
    "imdb5 = pd.read_csv(\n",
    "    os.path.join(data_home, 'imdb_window5-scaled.csv.gz'), index_col=0)\n",
    "\n",
    "imdb5_orig = pd.DataFrame.copy(imdb5)\n",
    "imdb5_pmi = vsm.pmi(imdb5)\n",
    "\n",
    "glove_model = GloVe(max_iter=10, n=20)\n",
    "imdb5_glove = glove_model.fit(imdb5.values)\n",
    "\n",
    "gloveFinal = np.dot(imdb5_glove, imdb5_glove.T) \n",
    "a = imdb5_pmi.values.ravel()\n",
    "b = gloveFinal.ravel()\n",
    "print(stats.pearsonr(a, b))"
   ]
  },
  {
   "cell_type": "markdown",
   "metadata": {},
   "source": [
    "## Question 8: Expressive eloooongation [2 points]\n",
    "\n",
    "One of the goals of subword modeling is to capture out-of-vocabulary (OOV) words. This is particularly important for __expressive elogations__ like _coooooool_ and _booriiiing_. Because the amount of elongation is highly variable, we're unlikely to have good representations for such words. How does [our simple approach to subword modeling](vsm_01_distributional.ipynb#Subword-information) do with these phenomena?\n",
    "\n",
    "__Your task:__\n",
    "\n",
    "* Use `vsm.ngram_vsm` to create a 4-gram character-level VSM from the matrix in `imdb_window20-flat.csv.gz`.\n",
    "\n",
    "* Using `character_level_rep` from the notebook for representing words in this space, calculate the cosine distances for pair `cool` and `cooooool`.\n",
    "\n",
    "__To submit__: the cosine distance  between `cool` and `cooooool`\n",
    "\n",
    "(Of course, the broader question we want to answer is whether these words are being modeled as similar, which is a more subjective, comparative question. It does depend on these distance calculations, though.)"
   ]
  },
  {
   "cell_type": "code",
   "execution_count": 17,
   "metadata": {},
   "outputs": [
    {
     "name": "stdout",
     "output_type": "stream",
     "text": [
      "                  !         \"       #       $       %        &        '  \\\n",
      "'ll</w>     35745.0   67209.0   283.0   538.0   473.0   2388.0  17468.0   \n",
      "'re</w>     41043.0  106029.0   348.0   554.0   668.0   3234.0  27493.0   \n",
      "'ve</w>     55275.0  125209.0   454.0   753.0   900.0   5250.0  35106.0   \n",
      "****        16540.0   14098.0   142.0   126.0   115.0    856.0   3710.0   \n",
      "***</w>     21091.0   25215.0   276.0   215.0   149.0   1411.0   6938.0   \n",
      "-fi</w>      6193.0   19863.0    46.0   117.0   142.0   1410.0   7585.0   \n",
      "-mak         1237.0    6416.0    20.0    28.0    31.0    276.0   2468.0   \n",
      "-men         1927.0    7110.0    34.0    24.0    21.0    300.0   1844.0   \n",
      "-old         1165.0    4395.0    13.0    20.0    10.0    102.0   1132.0   \n",
      "-the         1206.0    5831.0    16.0    10.0    30.0    325.0   1828.0   \n",
      "-top         1206.0    5831.0    16.0    10.0    30.0    325.0   1828.0   \n",
      "-up</w>      1665.0    3385.0     2.0    18.0    25.0    782.0   1385.0   \n",
      "....        57526.0   52678.0   398.0   662.0   454.0   2353.0  14274.0   \n",
      "...</w>    243326.0  335542.0  1638.0  2554.0  2400.0  15007.0  87325.0   \n",
      "/10</w>      8695.0    8289.0   106.0    70.0   106.0    536.0   2740.0   \n",
      "0/1</w>     13357.0    5107.0    83.0    33.0   142.0    303.0   1453.0   \n",
      "000</w>      1448.0    8285.0    28.0    40.0    32.0    377.0   3126.0   \n",
      "001</w>      1719.0   14471.0    22.0    29.0    29.0    367.0   4057.0   \n",
      "1/2</w>      2223.0    3540.0    27.0    41.0    29.0    476.0   1022.0   \n",
      "10/1        13357.0    5107.0    83.0    33.0   142.0    303.0   1453.0   \n",
      "100</w>      6614.0    8756.0   188.0    87.0  8759.0   1026.0   2550.0   \n",
      "2000         1448.0    8285.0    28.0    40.0    32.0    377.0   3126.0   \n",
      "2001         1719.0   14471.0    22.0    29.0    29.0    367.0   4057.0   \n",
      "6/10         1197.0    2183.0    23.0    24.0    27.0    188.0    670.0   \n",
      "7/10         2483.0    3054.0    42.0    29.0    37.0    206.0   1029.0   \n",
      "70s</w>      1432.0    7435.0     5.0    11.0    21.0    277.0   6327.0   \n",
      "80s</w>      2102.0    7458.0    13.0     8.0    32.0    269.0   6396.0   \n",
      "9/10         5015.0    3052.0    41.0    17.0    42.0    142.0   1041.0   \n",
      "<w>);</w>    1999.0   14421.0    17.0    21.0    39.0    544.0   3824.0   \n",
      "<w>***      21091.0   25215.0   276.0   215.0   149.0   1411.0   6938.0   \n",
      "...             ...       ...     ...     ...     ...      ...      ...   \n",
      "zakh           83.0     264.0     6.0     0.0     7.0      3.0     69.0   \n",
      "zamb            3.0       9.0     0.0     0.0     0.0      3.0      0.0   \n",
      "zard         1275.0    7355.0    22.0    24.0    11.0    197.0   1564.0   \n",
      "zarr         2706.0    9657.0    23.0    23.0    40.0    703.0   3288.0   \n",
      "zart          153.0     801.0     1.0     1.0     2.0     32.0    157.0   \n",
      "zati          321.0    1914.0     4.0     6.0     7.0     46.0    432.0   \n",
      "zbek            3.0      12.0     0.0     0.0     0.0      0.0      5.0   \n",
      "zebr           61.0     318.0     1.0     0.0     0.0      4.0     60.0   \n",
      "zed</w>      5010.0   11389.0    28.0    57.0    90.0    432.0   3102.0   \n",
      "zen</w>      1540.0   10316.0    45.0    14.0    29.0    212.0   2683.0   \n",
      "zens           20.0     104.0     0.0     0.0     5.0      6.0     22.0   \n",
      "zerb            6.0       6.0     0.0     0.0     0.0      0.0      6.0   \n",
      "zerl          129.0     333.0     0.0     0.0     1.0     24.0     82.0   \n",
      "zes</w>       928.0    3756.0    20.0    17.0    14.0    182.0    896.0   \n",
      "zil</w>       550.0   13002.0    13.0    10.0    15.0     84.0   2216.0   \n",
      "zili          238.0    1281.0     0.0     4.0     9.0     24.0    317.0   \n",
      "zimb            0.0      23.0     0.0     0.0     1.0      1.0      5.0   \n",
      "zinc            2.0      13.0     0.0     0.0     0.0      0.0     14.0   \n",
      "zine          742.0    4566.0    13.0    11.0    24.0    133.0   1259.0   \n",
      "zing        33813.0   32987.0   154.0   241.0   312.0   1920.0  10837.0   \n",
      "zlot            0.0       0.0     0.0     0.0     0.0      0.0      0.0   \n",
      "zomb         9367.0   24694.0   126.0   144.0   147.0   2087.0   7813.0   \n",
      "zon</w>       296.0    2365.0     1.0    10.0     2.0    111.0    685.0   \n",
      "zona          269.0    2135.0     5.0     1.0     3.0     79.0    591.0   \n",
      "zoo</w>       264.0     902.0     3.0     2.0     8.0     52.0    246.0   \n",
      "zsta            0.0       0.0     0.0     0.0     0.0      0.0      0.0   \n",
      "zuel           34.0      88.0     0.0     0.0     5.0      3.0     34.0   \n",
      "zure           99.0     156.0     0.0     0.0     2.0      9.0     44.0   \n",
      "zza</w>       699.0    1394.0     4.0    14.0     4.0     83.0    347.0   \n",
      "zzar           74.0     192.0     5.0     1.0     1.0      9.0     47.0   \n",
      "\n",
      "                  (         )       );  ...    zinc  zloty   zombie  zombies  \\\n",
      "'ll</w>     25661.0   26485.0    170.0  ...     0.0    0.0    477.0    279.0   \n",
      "'re</w>     40411.0   41703.0    367.0  ...     1.0    0.0   1029.0   1049.0   \n",
      "'ve</w>     55840.0   54019.0    350.0  ...     0.0    0.0   1340.0    718.0   \n",
      "****        15767.0   16796.0     21.0  ...     0.0    0.0    133.0     74.0   \n",
      "***</w>     25057.0   25588.0     38.0  ...     0.0    0.0    206.0     98.0   \n",
      "-fi</w>      9090.0    8741.0     74.0  ...     0.0    0.0    121.0     54.0   \n",
      "-mak         2311.0    2335.0     22.0  ...     0.0    0.0     58.0     25.0   \n",
      "-men         3505.0    3463.0     26.0  ...     0.0    0.0      4.0      3.0   \n",
      "-old         4175.0    4129.0     26.0  ...     0.0    0.0     14.0     17.0   \n",
      "-the         3289.0    3274.0     33.0  ...     0.0    0.0     70.0     34.0   \n",
      "-top         3289.0    3274.0     33.0  ...     0.0    0.0     70.0     34.0   \n",
      "-up</w>      3153.0    3041.0     39.0  ...     0.0    0.0    447.0    336.0   \n",
      "....        19278.0   20770.0     76.0  ...     4.0    0.0    465.0    323.0   \n",
      "...</w>    135099.0  143253.0    649.0  ...     5.0    0.0   2712.0   2161.0   \n",
      "/10</w>      7974.0    9189.0    102.0  ...     0.0    0.0    106.0     50.0   \n",
      "0/1</w>      3637.0    4119.0      8.0  ...     0.0    0.0     56.0     17.0   \n",
      "000</w>      6165.0    5956.0     90.0  ...     0.0    0.0     30.0     12.0   \n",
      "001</w>      7346.0    7089.0     70.0  ...     0.0    0.0      8.0      6.0   \n",
      "1/2</w>      8752.0    8942.0     20.0  ...     0.0    0.0     40.0     14.0   \n",
      "10/1         3637.0    4119.0      8.0  ...     0.0    0.0     56.0     17.0   \n",
      "100</w>      5981.0    6093.0     30.0  ...     0.0    0.0     59.0     43.0   \n",
      "2000         6165.0    5956.0     90.0  ...     0.0    0.0     30.0     12.0   \n",
      "2001         7346.0    7089.0     70.0  ...     0.0    0.0      8.0      6.0   \n",
      "6/10         2108.0    2418.0     26.0  ...     0.0    0.0     30.0     11.0   \n",
      "7/10         2826.0    3289.0     37.0  ...     0.0    0.0     47.0     21.0   \n",
      "70s</w>      3435.0    3283.0     36.0  ...     1.0    0.0    100.0     30.0   \n",
      "80s</w>      3696.0    3515.0     33.0  ...     0.0    0.0     83.0     32.0   \n",
      "9/10         3040.0    3482.0     39.0  ...     0.0    0.0     29.0     18.0   \n",
      "<w>);</w>   33894.0    6616.0  28151.0  ...     0.0    0.0     30.0     44.0   \n",
      "<w>***      25057.0   25588.0     38.0  ...     0.0    0.0    206.0     98.0   \n",
      "...             ...       ...      ...  ...     ...    ...      ...      ...   \n",
      "zakh          142.0     139.0      1.0  ...     0.0    0.0      0.0      0.0   \n",
      "zamb           19.0      13.0      0.0  ...     0.0    0.0      0.0      0.0   \n",
      "zard         2954.0    2928.0     17.0  ...     0.0    0.0     22.0     11.0   \n",
      "zarr         5883.0    5737.0     59.0  ...     0.0    0.0    102.0     76.0   \n",
      "zart          427.0     425.0      1.0  ...     0.0    0.0      1.0      1.0   \n",
      "zati         1297.0    1330.0      2.0  ...     0.0    0.0      4.0      6.0   \n",
      "zbek            6.0       9.0      0.0  ...     0.0    0.0      0.0      0.0   \n",
      "zebr          216.0     207.0      1.0  ...     0.0    0.0      0.0      0.0   \n",
      "zed</w>      4975.0    4899.0     24.0  ...     0.0    0.0     59.0     27.0   \n",
      "zen</w>      2928.0    2944.0     28.0  ...     0.0    0.0     23.0     21.0   \n",
      "zens           72.0      81.0      0.0  ...     0.0    0.0      0.0      0.0   \n",
      "zerb            5.0       4.0      0.0  ...     0.0    0.0      0.0      0.0   \n",
      "zerl          376.0     379.0      5.0  ...     0.0    0.0      0.0      0.0   \n",
      "zes</w>      2667.0    2846.0     13.0  ...     0.0    0.0     23.0     26.0   \n",
      "zil</w>      7049.0    3879.0     14.0  ...     1.0    0.0      7.0      8.0   \n",
      "zili          691.0     650.0      3.0  ...     0.0    0.0      1.0      2.0   \n",
      "zimb           30.0      31.0      0.0  ...     0.0    0.0      0.0      0.0   \n",
      "zinc            7.0       7.0      0.0  ...    30.0    0.0      0.0      0.0   \n",
      "zine         2218.0    2195.0     10.0  ...     0.0    0.0     11.0      7.0   \n",
      "zing        20800.0   20508.0     88.0  ...     0.0    0.0    245.0    140.0   \n",
      "zlot            1.0       1.0      0.0  ...     0.0    6.0      0.0      0.0   \n",
      "zomb        12439.0   12512.0     74.0  ...     0.0    0.0  46629.0  34579.0   \n",
      "zon</w>       772.0     752.0      8.0  ...     0.0    0.0      6.0     10.0   \n",
      "zona         1199.0    1114.0     67.0  ...     0.0    0.0      0.0      1.0   \n",
      "zoo</w>       566.0     591.0      4.0  ...     0.0    0.0     15.0      7.0   \n",
      "zsta            2.0       2.0      0.0  ...     0.0    0.0      0.0      0.0   \n",
      "zuel           94.0     109.0      1.0  ...     0.0    0.0      0.0      0.0   \n",
      "zure          100.0      99.0      1.0  ...     0.0    0.0      0.0      3.0   \n",
      "zza</w>       817.0     821.0      5.0  ...     0.0    0.0     18.0      9.0   \n",
      "zzar          147.0     167.0      1.0  ...     0.0    0.0      0.0      1.0   \n",
      "\n",
      "              zoo                    ´       é     és  \n",
      "'ll</w>      26.0   992.0  204.0    14.0   320.0  239.0  \n",
      "'re</w>      54.0  2122.0  473.0    12.0   680.0  497.0  \n",
      "'ve</w>      47.0  1930.0  459.0    22.0   955.0  541.0  \n",
      "****          1.0   156.0    6.0    85.0    89.0   30.0  \n",
      "***</w>       5.0   201.0   23.0   130.0   150.0   58.0  \n",
      "-fi</w>       5.0   309.0   50.0   158.0   131.0  164.0  \n",
      "-mak          3.0   248.0   53.0     9.0    52.0   46.0  \n",
      "-men          1.0    77.0   19.0    38.0    17.0   11.0  \n",
      "-old          5.0   121.0   30.0     2.0    28.0   18.0  \n",
      "-the          2.0   134.0   38.0     8.0    73.0   46.0  \n",
      "-top          2.0   134.0   38.0     8.0    73.0   46.0  \n",
      "-up</w>       1.0   121.0   15.0    11.0    13.0   12.0  \n",
      "....         25.0    86.0   14.0   354.0   351.0  106.0  \n",
      "...</w>     127.0   843.0  390.0  2653.0  2184.0  987.0  \n",
      "/10</w>       3.0   277.0   16.0   136.0    59.0   34.0  \n",
      "0/1</w>       0.0    80.0   12.0    64.0    21.0    5.0  \n",
      "000</w>       2.0    91.0   12.0    22.0    19.0   12.0  \n",
      "001</w>       4.0   165.0   15.0    72.0    35.0    6.0  \n",
      "1/2</w>       2.0    25.0    3.0     5.0    18.0   22.0  \n",
      "10/1          0.0    80.0   12.0    64.0    21.0    5.0  \n",
      "100</w>       3.0   133.0   24.0    49.0    46.0   36.0  \n",
      "2000          2.0    91.0   12.0    22.0    19.0   12.0  \n",
      "2001          4.0   165.0   15.0    72.0    35.0    6.0  \n",
      "6/10          2.0    77.0    4.0    44.0    18.0   12.0  \n",
      "7/10          1.0   115.0    4.0    55.0    26.0   13.0  \n",
      "70s</w>       2.0   114.0   71.0    35.0    43.0   31.0  \n",
      "80s</w>       0.0    80.0   84.0    18.0    63.0   59.0  \n",
      "9/10          0.0    85.0    8.0    37.0    15.0    9.0  \n",
      "<w>);</w>     4.0   530.0   77.0     4.0    87.0   19.0  \n",
      "<w>***        5.0   201.0   23.0   130.0   150.0   58.0  \n",
      "...           ...     ...    ...     ...     ...    ...  \n",
      "zakh          0.0     4.0    1.0     0.0     1.0    0.0  \n",
      "zamb          0.0     0.0    0.0     0.0     1.0    0.0  \n",
      "zard          5.0    76.0   27.0     9.0    18.0    2.0  \n",
      "zarr         15.0   243.0   67.0    33.0    71.0   28.0  \n",
      "zart          0.0     7.0    2.0     5.0     3.0    0.0  \n",
      "zati          0.0    35.0   17.0     0.0     7.0    4.0  \n",
      "zbek          0.0     0.0    0.0     0.0     0.0    0.0  \n",
      "zebr         66.0    12.0    0.0     0.0     1.0    1.0  \n",
      "zed</w>       4.0   148.0   37.0    59.0    77.0   32.0  \n",
      "zen</w>       6.0   114.0   31.0    21.0    37.0   13.0  \n",
      "zens          0.0     3.0    1.0     0.0     4.0    0.0  \n",
      "zerb          0.0     1.0    0.0     0.0     0.0    0.0  \n",
      "zerl          3.0     5.0    0.0     1.0     4.0    2.0  \n",
      "zes</w>       0.0    93.0   40.0    18.0    44.0    6.0  \n",
      "zil</w>       1.0   405.0    2.0    21.0    43.0   13.0  \n",
      "zili          0.0    27.0    4.0    20.0    42.0    3.0  \n",
      "zimb          0.0     1.0    3.0     0.0     0.0    0.0  \n",
      "zinc          0.0     0.0    0.0     0.0     1.0    0.0  \n",
      "zine          5.0    71.0   16.0    14.0    28.0    7.0  \n",
      "zing          5.0   521.0  160.0   228.0   238.0   90.0  \n",
      "zlot          0.0     0.0    0.0     0.0     0.0    0.0  \n",
      "zomb         22.0   321.0   95.0    88.0   164.0  123.0  \n",
      "zon</w>       0.0    36.0   11.0    14.0    14.0    1.0  \n",
      "zona          0.0    16.0   13.0     0.0     7.0    2.0  \n",
      "zoo</w>    2472.0    34.0    7.0     3.0     2.0    0.0  \n",
      "zsta          0.0     0.0    0.0     0.0     0.0    0.0  \n",
      "zuel          0.0     2.0    0.0     0.0     1.0    1.0  \n",
      "zure          0.0     3.0    1.0     1.0     1.0    1.0  \n",
      "zza</w>       0.0    17.0    4.0     3.0     7.0    3.0  \n",
      "zzar          0.0    11.0    0.0     0.0     1.0    0.0  \n",
      "\n",
      "[10167 rows x 5000 columns]\n"
     ]
    },
    {
     "name": "stdout",
     "output_type": "stream",
     "text": [
      "[ 84615. 154788.    589. ...   1034.   1065.    492.]\n",
      "[ 60382. 117473.    430. ...    720.    827.    395.]\n",
      "0.0006569654844812423\n"
     ]
    }
   ],
   "source": [
    "def character_level_rep(word, cf, n=4):\n",
    "    ngrams = vsm.get_character_ngrams(word, n)\n",
    "    ngrams = [n for n in ngrams if n in cf.index]    \n",
    "    reps = cf.loc[ngrams].values\n",
    "    return reps.sum(axis=0)    \n",
    "\n",
    "data_home = 'vsmdata'\n",
    "imdb20 = pd.read_csv(\n",
    "    os.path.join(data_home, 'imdb_window20-flat.csv.gz'), index_col=0)\n",
    "\n",
    "print(imdb20_ngrams)\n",
    "\n",
    "imdb20_ngrams = vsm.ngram_vsm(imdb20, n=4)\n",
    "\n",
    "cool = character_level_rep(\"cool\", imdb20_ngrams)\n",
    "cooooool = character_level_rep(\"cooooool\", imdb20_ngrams)\n",
    "\n",
    "\n",
    "print(cool)\n",
    "print(cooooool)\n",
    "print(vsm.cosine(cool, cooooool))"
   ]
  },
  {
   "cell_type": "code",
   "execution_count": null,
   "metadata": {},
   "outputs": [],
   "source": []
  }
 ],
 "metadata": {
  "kernelspec": {
   "display_name": "Python 3",
   "language": "python",
   "name": "python3"
  },
  "language_info": {
   "codemirror_mode": {
    "name": "ipython",
    "version": 3
   },
   "file_extension": ".py",
   "mimetype": "text/x-python",
   "name": "python",
   "nbconvert_exporter": "python",
   "pygments_lexer": "ipython3",
   "version": "3.6.4"
  },
  "widgets": {
   "state": {},
   "version": "1.1.2"
  }
 },
 "nbformat": 4,
 "nbformat_minor": 1
}
