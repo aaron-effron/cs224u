{
 "cells": [
  {
   "cell_type": "markdown",
   "metadata": {
    "slideshow": {
     "slide_type": "slide"
    }
   },
   "source": [
    "# Vector-space models: dimensionality reduction"
   ]
  },
  {
   "cell_type": "code",
   "execution_count": 2,
   "metadata": {},
   "outputs": [],
   "source": [
    "__author__ = \"Aaron Effron\"\n",
    "__version__ = \"CS224u, Stanford, Spring 2018 term\""
   ]
  },
  {
   "cell_type": "markdown",
   "metadata": {
    "slideshow": {
     "slide_type": "slide"
    }
   },
   "source": [
    "## Contents\n",
    "\n",
    "0. [Overview](#Overview)\n",
    "0. [Set-up](#Set-up)\n",
    "0. [Latent Semantic Analysis](#Latent-Semantic-Analysis)\n",
    "  0. [Overview of the LSA method](#Overview-of-the-LSA-method)\n",
    "  0. [Motivating example for LSA](#Motivating-example-for-LSA)\n",
    "  0. [Applying LSA to real VSMs](#Applying-LSA-to-real-VSMs)\n",
    "  0. [Other resources for matrix factorization](#Other-resources-for-matrix-factorization)\n",
    "0. [GloVe](#GloVe)\n",
    "  0. [Overview of the GloVe method](#Overview-of-the-GloVe-method)\n",
    "  0. [GloVe implementation notes](#GloVe-implementation-notes)\n",
    "  0. [Applying GloVe to our motivating example](#Applying-GloVe-to-our-motivating-example)\n",
    "  0. [Testing the GloVe implementation](#Testing-the-GloVe-implementation)\n",
    "  0. [Applying GloVe to real VSMs](#Applying-GloVe-to-real-VSMs)\n",
    "0. [Autoencoders](#Autoencoders)\n",
    "  0. [Overview of the autoencoder method](#Overview-of-the-autoencoder-method)\n",
    "  0. [Testing the autoencoder implementation](#Testing-the-autoencoder-implementation)\n",
    "  0. [Applying autoencoders to real VSMs](#Applying-autoencoders-to-real-VSMs)\n",
    "0. [word2vec](#word2vec)\n",
    "  0. [Training data](#Training-data)\n",
    "  0. [Basic skip-gram](#Basic-skip-gram)\n",
    "  0. [Skip-gram with noise contrastive estimation ](#Skip-gram-with-noise-contrastive-estimation-)\n",
    "  0. [word2vec resources](#word2vec-resources)\n",
    "0. [Other methods](#Other-methods)\n",
    "0. [Exploratory exercises](#Exploratory-exercises)"
   ]
  },
  {
   "cell_type": "markdown",
   "metadata": {
    "slideshow": {
     "slide_type": "slide"
    }
   },
   "source": [
    "## Overview\n",
    "\n",
    "The matrix weighting schemes reviewed in the first notebook for this unit deliver solid results. However, they are not capable of capturing higher-order associations in the data. \n",
    "\n",
    "With dimensionality reduction, the goal is to eliminate correlations in the input VSM and capture such higher-order notions of co-occurrence, thereby improving the overall space.\n",
    "\n",
    "As a motivating example, consider the adjectives _gnarly_ and _wicked_ used as slang positive adjectives.  Since both are positive, we expect them to be similar in a good VSM. However, at least stereotypically, _gnarly_ is Californian and _wicked_ is Bostonian. Thus, they are unlikely to occur often in the same texts, and so the methods we've reviewed so far will not be able to model their similarity. \n",
    "\n",
    "Dimensionality reduction techniques are often capable of capturing such semantic similarities (and have the added advantage of shrinking the size of our data structures)."
   ]
  },
  {
   "cell_type": "markdown",
   "metadata": {
    "slideshow": {
     "slide_type": "slide"
    }
   },
   "source": [
    "## Set-up\n",
    "\n",
    "* Make sure your environment meets all the requirements for [the cs224u repository](https://github.com/cgpotts/cs224u/). For help getting set-up, see [setup.ipynb](setup.ipynb]).\n",
    "\n",
    "* Make sure you've downloaded [the data distribution for this unit](http://web.stanford.edu/class/cs224u/data/vsmdata.zip), unpacked it, and placed it in the current directory (or wherever you point `data_home` to below)."
   ]
  },
  {
   "cell_type": "code",
   "execution_count": 3,
   "metadata": {},
   "outputs": [
    {
     "name": "stderr",
     "output_type": "stream",
     "text": [
      "/Users/aaroneffron/anaconda3/envs/nlu/lib/python3.6/site-packages/h5py/__init__.py:36: FutureWarning: Conversion of the second argument of issubdtype from `float` to `np.floating` is deprecated. In future, it will be treated as `np.float64 == np.dtype(float).type`.\n",
      "  from ._conv import register_converters as _register_converters\n"
     ]
    }
   ],
   "source": [
    "from mittens import GloVe\n",
    "import numpy as np\n",
    "import os\n",
    "import pandas as pd\n",
    "import scipy.stats\n",
    "from tf_autoencoder import TfAutoencoder\n",
    "import utils \n",
    "import vsm"
   ]
  },
  {
   "cell_type": "code",
   "execution_count": 6,
   "metadata": {},
   "outputs": [],
   "source": [
    "data_home = 'vsmdata'"
   ]
  },
  {
   "cell_type": "code",
   "execution_count": 14,
   "metadata": {},
   "outputs": [],
   "source": [
    "imdb5 = pd.read_csv(\n",
    "    os.path.join(data_home, 'imdb_window5-scaled.csv.gz'), index_col=0)"
   ]
  },
  {
   "cell_type": "code",
   "execution_count": 15,
   "metadata": {},
   "outputs": [],
   "source": [
    "imdb20 = pd.read_csv(\n",
    "    os.path.join(data_home, 'imdb_window20-flat.csv.gz'), index_col=0)"
   ]
  },
  {
   "cell_type": "code",
   "execution_count": 16,
   "metadata": {},
   "outputs": [],
   "source": [
    "giga5 = pd.read_csv(\n",
    "    os.path.join(data_home, 'gigaword_window5-scaled.csv.gz'), index_col=0)"
   ]
  },
  {
   "cell_type": "code",
   "execution_count": 17,
   "metadata": {},
   "outputs": [],
   "source": [
    "giga20 = pd.read_csv(\n",
    "    os.path.join(data_home, 'gigaword_window20-flat.csv.gz'), index_col=0)"
   ]
  },
  {
   "cell_type": "markdown",
   "metadata": {
    "slideshow": {
     "slide_type": "slide"
    }
   },
   "source": [
    "## Latent Semantic Analysis\n",
    "\n",
    "Latent Semantic Analysis (LSA) is a prominent dimensionality reduction technique. It is an application of __truncated singular value decomposition__ (SVD) and so uses only techniques from linear algebra (no machine learning needed)."
   ]
  },
  {
   "cell_type": "markdown",
   "metadata": {
    "slideshow": {
     "slide_type": "slide"
    }
   },
   "source": [
    "### Overview of the LSA method\n",
    "\n",
    "The central mathematical result is that, for any matrix of real numbers $X$ of dimension $m \\times n$, there is a factorization of $X$ into matrices $T$, $S$, and $D$ such that\n",
    "\n",
    "$$X_{m \\times n} = T_{m \\times m}S_{m\\times m}D_{n \\times m}^{\\top}$$\n",
    "\n",
    "The matrices $T$ and $D$ are  __orthonormal__ – their columns are length-normalized and orthogonal to one another (that is, they each have cosine distance of $1$ from each other). The singular-value matrix $S$ is a diagonal matrix arranged by size, so that the first dimension corresponds to the greatest source of variability in the data, followed by the second, and so on.\n",
    "\n",
    "Of course, we don't want to factorize and rebuild the original matrix, as that wouldn't get us anywhere. The __truncation__ part means that we include only the top $k$ dimensions of $S$. Given our row-oriented perspective on these matrices, this means using\n",
    "\n",
    "$$T[1{:}m, 1{:}k]S[1{:}k, 1{:}k]$$\n",
    "\n",
    "which gives us a version of $T$ that includes only the top $k$ dimensions of variation. \n",
    "\n",
    "To build up intuitions, imagine that everyone on the Stanford campus is associated with a 3d point representing their position: $x$ is east–west, $y$ is north–south, and $z$ is zenith–nadir. Since the campus is spread out and has relatively few deep basements and tall buildings, the top two dimensions of variation will be $x$ and $y$, and the 2d truncated SVD of this space will leave $z$ out. This will, for example, capture the sense in which someone at the top of Hoover Tower is close to someone at its base."
   ]
  },
  {
   "cell_type": "markdown",
   "metadata": {
    "slideshow": {
     "slide_type": "slide"
    }
   },
   "source": [
    "### Motivating example for LSA\n",
    "\n",
    "We can also return to our original motivating example of _wicked_ and _gnarly_. Here is a matrix reflecting those assumptions:"
   ]
  },
  {
   "cell_type": "code",
   "execution_count": 8,
   "metadata": {},
   "outputs": [
    {
     "data": {
      "text/html": [
       "<div>\n",
       "<style scoped>\n",
       "    .dataframe tbody tr th:only-of-type {\n",
       "        vertical-align: middle;\n",
       "    }\n",
       "\n",
       "    .dataframe tbody tr th {\n",
       "        vertical-align: top;\n",
       "    }\n",
       "\n",
       "    .dataframe thead th {\n",
       "        text-align: right;\n",
       "    }\n",
       "</style>\n",
       "<table border=\"1\" class=\"dataframe\">\n",
       "  <thead>\n",
       "    <tr style=\"text-align: right;\">\n",
       "      <th></th>\n",
       "      <th>0</th>\n",
       "      <th>1</th>\n",
       "      <th>2</th>\n",
       "      <th>3</th>\n",
       "      <th>4</th>\n",
       "      <th>5</th>\n",
       "    </tr>\n",
       "  </thead>\n",
       "  <tbody>\n",
       "    <tr>\n",
       "      <th>gnarly</th>\n",
       "      <td>1.0</td>\n",
       "      <td>0.0</td>\n",
       "      <td>1.0</td>\n",
       "      <td>0.0</td>\n",
       "      <td>0.0</td>\n",
       "      <td>0.0</td>\n",
       "    </tr>\n",
       "    <tr>\n",
       "      <th>wicked</th>\n",
       "      <td>0.0</td>\n",
       "      <td>1.0</td>\n",
       "      <td>0.0</td>\n",
       "      <td>1.0</td>\n",
       "      <td>0.0</td>\n",
       "      <td>0.0</td>\n",
       "    </tr>\n",
       "    <tr>\n",
       "      <th>awesome</th>\n",
       "      <td>1.0</td>\n",
       "      <td>1.0</td>\n",
       "      <td>1.0</td>\n",
       "      <td>1.0</td>\n",
       "      <td>0.0</td>\n",
       "      <td>0.0</td>\n",
       "    </tr>\n",
       "    <tr>\n",
       "      <th>lame</th>\n",
       "      <td>0.0</td>\n",
       "      <td>0.0</td>\n",
       "      <td>0.0</td>\n",
       "      <td>0.0</td>\n",
       "      <td>1.0</td>\n",
       "      <td>1.0</td>\n",
       "    </tr>\n",
       "    <tr>\n",
       "      <th>terrible</th>\n",
       "      <td>0.0</td>\n",
       "      <td>0.0</td>\n",
       "      <td>0.0</td>\n",
       "      <td>0.0</td>\n",
       "      <td>0.0</td>\n",
       "      <td>1.0</td>\n",
       "    </tr>\n",
       "  </tbody>\n",
       "</table>\n",
       "</div>"
      ],
      "text/plain": [
       "            0    1    2    3    4    5\n",
       "gnarly    1.0  0.0  1.0  0.0  0.0  0.0\n",
       "wicked    0.0  1.0  0.0  1.0  0.0  0.0\n",
       "awesome   1.0  1.0  1.0  1.0  0.0  0.0\n",
       "lame      0.0  0.0  0.0  0.0  1.0  1.0\n",
       "terrible  0.0  0.0  0.0  0.0  0.0  1.0"
      ]
     },
     "execution_count": 8,
     "metadata": {},
     "output_type": "execute_result"
    }
   ],
   "source": [
    "gnarly_df = pd.DataFrame(\n",
    "    np.array([\n",
    "        [1,0,1,0,0,0],\n",
    "        [0,1,0,1,0,0],\n",
    "        [1,1,1,1,0,0],\n",
    "        [0,0,0,0,1,1],\n",
    "        [0,0,0,0,0,1]], dtype='float64'),\n",
    "    index=['gnarly', 'wicked', 'awesome', 'lame', 'terrible'])\n",
    "\n",
    "gnarly_df"
   ]
  },
  {
   "cell_type": "markdown",
   "metadata": {},
   "source": [
    "No column context includes both _gnarly_ and _wicked_ together so our count matrix places them far apart:"
   ]
  },
  {
   "cell_type": "code",
   "execution_count": 9,
   "metadata": {},
   "outputs": [
    {
     "data": {
      "text/plain": [
       "gnarly      0.000000\n",
       "awesome     0.292893\n",
       "wicked      1.000000\n",
       "lame        1.000000\n",
       "terrible    1.000000\n",
       "dtype: float64"
      ]
     },
     "execution_count": 9,
     "metadata": {},
     "output_type": "execute_result"
    }
   ],
   "source": [
    "vsm.neighbors('gnarly', gnarly_df)"
   ]
  },
  {
   "cell_type": "markdown",
   "metadata": {},
   "source": [
    "Reweighting doesn't help. For example, here is the attempt with Positive PMI:"
   ]
  },
  {
   "cell_type": "code",
   "execution_count": 10,
   "metadata": {},
   "outputs": [
    {
     "data": {
      "text/plain": [
       "gnarly      0.000000\n",
       "awesome     0.292893\n",
       "wicked      1.000000\n",
       "lame        1.000000\n",
       "terrible    1.000000\n",
       "dtype: float64"
      ]
     },
     "execution_count": 10,
     "metadata": {},
     "output_type": "execute_result"
    }
   ],
   "source": [
    "vsm.neighbors('gnarly', vsm.pmi(gnarly_df))"
   ]
  },
  {
   "cell_type": "markdown",
   "metadata": {},
   "source": [
    "However, both words tend to occur with _awesome_ and not with _lame_ or _terrible_, so there is an important sense in which they are similar. LSA to the rescue:"
   ]
  },
  {
   "cell_type": "code",
   "execution_count": 11,
   "metadata": {},
   "outputs": [],
   "source": [
    "gnarly_lsa_df = vsm.lsa(gnarly_df, k=2)"
   ]
  },
  {
   "cell_type": "code",
   "execution_count": 12,
   "metadata": {},
   "outputs": [
    {
     "data": {
      "text/plain": [
       "gnarly      0.0\n",
       "wicked      0.0\n",
       "awesome     0.0\n",
       "lame        1.0\n",
       "terrible    1.0\n",
       "dtype: float64"
      ]
     },
     "execution_count": 12,
     "metadata": {},
     "output_type": "execute_result"
    }
   ],
   "source": [
    "vsm.neighbors('gnarly', gnarly_lsa_df)"
   ]
  },
  {
   "cell_type": "markdown",
   "metadata": {
    "slideshow": {
     "slide_type": "slide"
    }
   },
   "source": [
    "### Applying LSA to real VSMs\n",
    "\n",
    "Here's an example that begins to convey the effect that this can have empirically.\n",
    "\n",
    "First, the original count matrix:"
   ]
  },
  {
   "cell_type": "code",
   "execution_count": 13,
   "metadata": {},
   "outputs": [
    {
     "data": {
      "text/plain": [
       "superb    0.000000\n",
       "the       0.984231\n",
       ".         0.986942\n",
       "is        0.988014\n",
       ",         0.988344\n",
       "dtype: float64"
      ]
     },
     "execution_count": 13,
     "metadata": {},
     "output_type": "execute_result"
    }
   ],
   "source": [
    "vsm.neighbors('superb', imdb5).head()"
   ]
  },
  {
   "cell_type": "markdown",
   "metadata": {},
   "source": [
    "And then LSA with $k=100$:"
   ]
  },
  {
   "cell_type": "code",
   "execution_count": null,
   "metadata": {},
   "outputs": [],
   "source": [
    "imdb5_svd = vsm.lsa(imdb5, k=100)"
   ]
  },
  {
   "cell_type": "code",
   "execution_count": null,
   "metadata": {},
   "outputs": [],
   "source": [
    "vsm.neighbors('superb', imdb5_svd).head()"
   ]
  },
  {
   "cell_type": "markdown",
   "metadata": {
    "slideshow": {
     "slide_type": "slide"
    }
   },
   "source": [
    "A common pattern in the literature is to apply PMI first. The PMI values tend to give the count matrix a normal (Gaussian) distribution that better satisfies the assumptions underlying SVD:"
   ]
  },
  {
   "cell_type": "code",
   "execution_count": null,
   "metadata": {},
   "outputs": [],
   "source": [
    "imdb5_pmi = vsm.pmi(imdb5, positive=False)"
   ]
  },
  {
   "cell_type": "code",
   "execution_count": null,
   "metadata": {},
   "outputs": [],
   "source": [
    "imdb5_pmi_svd = vsm.lsa(imdb5_pmi, k=100)"
   ]
  },
  {
   "cell_type": "code",
   "execution_count": null,
   "metadata": {},
   "outputs": [],
   "source": [
    "vsm.neighbors('superb', imdb5_pmi_svd).head()"
   ]
  },
  {
   "cell_type": "markdown",
   "metadata": {
    "slideshow": {
     "slide_type": "slide"
    }
   },
   "source": [
    "### Other resources for matrix factorization\n",
    "\n",
    "The [sklearn.decomposition](http://scikit-learn.org/stable/modules/classes.html#module-sklearn.decomposition) module contains an implementation of LSA ([TruncatedSVD](http://scikit-learn.org/stable/modules/generated/sklearn.decomposition.TruncatedSVD.html#sklearn.decomposition.TruncatedSVD)) that you might want to switch to for real experiments:\n",
    "\n",
    "* The `sklearn` version is more flexible than the above in that it can operate on both dense matrices (Numpy arrays) and sparse matrices (from Scipy).\n",
    "\n",
    "* The `sklearn` version will make it easy to try out other dimensionality reduction methods in your own code; [Principal Component Analysis (PCA)](http://scikit-learn.org/stable/modules/generated/sklearn.decomposition.PCA.html#sklearn.decomposition.PCA) and [Non-Negative Matrix Factorization (NMF)](http://scikit-learn.org/stable/modules/generated/sklearn.decomposition.NMF.html#sklearn.decomposition.NMF) are closely related methods that are worth a look."
   ]
  },
  {
   "cell_type": "markdown",
   "metadata": {
    "slideshow": {
     "slide_type": "slide"
    }
   },
   "source": [
    "## GloVe\n",
    "\n",
    "### Overview of the GloVe method\n",
    "\n",
    "[Pennington et al. (2014)](http://www.aclweb.org/anthology/D/D14/D14-1162.pdf) introduce an objective function for semantic word representations. Roughly speaking, the objective is to learn vectors for words $w_{i}$ and $w_{j}$ such that their dot product is proportional to their probability of co-occurrence:\n",
    "\n",
    "$$w_{i}^{\\top}\\widetilde{w}_{k} + b_{i} + \\widetilde{b}_{k} = \\log(X_{ik})$$\n",
    "\n",
    "The paper is exceptionally good at motivating this objective from first principles. In their equation (6), they define \n",
    "\n",
    "$$w_{i}^{\\top}\\widetilde{w}_{k} = \\log(P_{ik}) = \\log(X_{ik}) - \\log(X_{i})$$\n",
    "\n",
    "If we allow that the rows and columns can be different, then we would do\n",
    "\n",
    "$$w_{i}^{\\top}\\widetilde{w}_{k} = \\log(P_{ik}) = \\log(X_{ik}) - \\log(X_{i} \\cdot X_{*j})$$\n",
    "\n",
    "The rightmost expression is PMI by the equivalence $\\log(\\frac{x}{y}) = \\log(x) - \\log(y)$, and hence we can see GloVe as aiming to make the dot product of two learned vectors equal to the PMI!\n",
    "\n",
    "The full model is a weighting of this objective:\n",
    "\n",
    "$$\\sum_{i, j=1}^{|V|} f\\left(X_{ij}\\right)\n",
    "  \\left(w_i^\\top \\widetilde{w}_j + b_i + \\widetilde{b}_j - \\log X_{ij}\\right)^2$$\n",
    "\n",
    "where $V$ is the vocabulary and $f$ is a scaling factor designed to diminish the impact of very large co-occurrence counts:\n",
    "\n",
    "$$f(x) \n",
    "\\begin{cases}\n",
    "(x/x_{\\max})^{\\alpha} & \\textrm{if } x < x_{\\max} \\\\\n",
    "1 & \\textrm{otherwise}\n",
    "\\end{cases}$$\n",
    "\n",
    "Typically, $\\alpha$ is set to $0.75$ and $x_{\\max}$ to $100$ (though it is worth assessing how many of your non-zero counts are above this; in dense word $\\times$ word matrices, you could be flattening more than you want to)."
   ]
  },
  {
   "cell_type": "markdown",
   "metadata": {
    "slideshow": {
     "slide_type": "slide"
    }
   },
   "source": [
    "### GloVe implementation notes\n",
    "\n",
    "* The implementation in `vsm.glove` is the most stripped-down, bare-bones version of the GloVe method I could think of. As such, it is quite slow. \n",
    "\n",
    "* The required [mittens](https://github.com/roamanalytics/mittens) package includes a vectorized implementation that is much, much faster, so we'll mainly use that. \n",
    "\n",
    "* For really large jobs, [the official C implementation released by the GloVe team](http://nlp.stanford.edu/projects/glove/) is probably the best choice."
   ]
  },
  {
   "cell_type": "markdown",
   "metadata": {
    "slideshow": {
     "slide_type": "slide"
    }
   },
   "source": [
    "### Applying GloVe to our motivating example\n",
    "\n",
    "GloVe should do well on our _gnarly_/_wicked_ evaluation, though you will see a lot variation due to the small size of this VSM:"
   ]
  },
  {
   "cell_type": "code",
   "execution_count": 15,
   "metadata": {},
   "outputs": [
    {
     "name": "stderr",
     "output_type": "stream",
     "text": [
      "Stopping at iteration 486 with error 9.954476765138825e-05\n"
     ]
    }
   ],
   "source": [
    "gnarly_glove = vsm.glove(gnarly_df, n=5, max_iter=1000)"
   ]
  },
  {
   "cell_type": "code",
   "execution_count": 20,
   "metadata": {},
   "outputs": [
    {
     "data": {
      "text/plain": [
       "gnarly      0.000000\n",
       "awesome     0.219802\n",
       "lame        0.604375\n",
       "terrible    0.895709\n",
       "wicked      1.574378\n",
       "dtype: float64"
      ]
     },
     "execution_count": 20,
     "metadata": {},
     "output_type": "execute_result"
    }
   ],
   "source": [
    "vsm.neighbors('gnarly', gnarly_glove)"
   ]
  },
  {
   "cell_type": "markdown",
   "metadata": {
    "slideshow": {
     "slide_type": "slide"
    }
   },
   "source": [
    "### Testing the GloVe implementation\n",
    "\n",
    "It is not easy analyze GloVe values derived from real data, but the following little simulation suggests that `vsm.glove` is working as advertised: it does seem to reliably deliver vectors whose dot products are proportional to the co-occurrence probability:"
   ]
  },
  {
   "cell_type": "code",
   "execution_count": 16,
   "metadata": {},
   "outputs": [],
   "source": [
    "glove_test_count_df = pd.DataFrame(\n",
    "    np.array([\n",
    "        [10.0,  2.0,  3.0,  4.0],\n",
    "        [ 2.0, 10.0,  4.0,  1.0],\n",
    "        [ 3.0,  4.0, 10.0,  2.0],\n",
    "        [ 4.0,  1.0,  2.0, 10.0]]),\n",
    "    index=['A', 'B', 'C', 'D'],\n",
    "    columns=['A', 'B', 'C', 'D'])"
   ]
  },
  {
   "cell_type": "code",
   "execution_count": 17,
   "metadata": {},
   "outputs": [
    {
     "name": "stderr",
     "output_type": "stream",
     "text": [
      "Stopping at iteration 820 with error 9.995620639401775e-05\n"
     ]
    }
   ],
   "source": [
    "glove_test_df = vsm.glove(glove_test_count_df, max_iter=1000, n=4)"
   ]
  },
  {
   "cell_type": "code",
   "execution_count": 18,
   "metadata": {},
   "outputs": [],
   "source": [
    "def correlation_test(true, pred):   \n",
    "    mask = true > 0\n",
    "    M = pred.dot(pred.T)\n",
    "    with np.errstate(divide='ignore'):\n",
    "        log_cooccur = np.log(true)\n",
    "        log_cooccur[np.isinf(log_cooccur)] = 0.0\n",
    "        row_prob = np.log(true.sum(axis=1))\n",
    "        row_log_prob = np.log(np.outer(row_prob, np.ones(true.shape[1])))\n",
    "        prob = log_cooccur - row_log_prob\n",
    "    return np.corrcoef(prob[mask], M[mask])[0, 1]"
   ]
  },
  {
   "cell_type": "code",
   "execution_count": 19,
   "metadata": {},
   "outputs": [
    {
     "data": {
      "text/plain": [
       "0.9573597017394123"
      ]
     },
     "execution_count": 19,
     "metadata": {},
     "output_type": "execute_result"
    }
   ],
   "source": [
    "correlation_test(glove_test_count_df.values, glove_test_df.values)"
   ]
  },
  {
   "cell_type": "markdown",
   "metadata": {
    "slideshow": {
     "slide_type": "slide"
    }
   },
   "source": [
    "### Applying GloVe to real VSMs"
   ]
  },
  {
   "cell_type": "markdown",
   "metadata": {},
   "source": [
    "The `vsm.glove` implementation is too slow to use on real matrices. The distribution in the `mittens` package is significantly faster, making its use possible even without a GPU (and it will be very fast indeed on a GPU machine):"
   ]
  },
  {
   "cell_type": "code",
   "execution_count": 20,
   "metadata": {},
   "outputs": [
    {
     "name": "stderr",
     "output_type": "stream",
     "text": [
      "Iteration 100: loss: 134284.65625"
     ]
    }
   ],
   "source": [
    "glove_model = GloVe()\n",
    "\n",
    "imdb5_glv = glove_model.fit(imdb5.values)\n",
    "\n",
    "imdb5_glv = pd.DataFrame(imdb5_glv, index=imdb5.index)"
   ]
  },
  {
   "cell_type": "code",
   "execution_count": 21,
   "metadata": {},
   "outputs": [
    {
     "data": {
      "text/plain": [
       "superb          0.000000\n",
       "excellent       0.125037\n",
       "brilliant       0.127776\n",
       "performances    0.132907\n",
       "wonderful       0.140002\n",
       "dtype: float64"
      ]
     },
     "execution_count": 21,
     "metadata": {},
     "output_type": "execute_result"
    }
   ],
   "source": [
    "vsm.neighbors('superb', imdb5_glv).head()"
   ]
  },
  {
   "cell_type": "markdown",
   "metadata": {
    "slideshow": {
     "slide_type": "slide"
    }
   },
   "source": [
    "## Autoencoders\n",
    "\n",
    "An autoencoder is a machine learning model that seeks to learn parameters that predict its own input. This is meaningful when there are intermediate representations that have lower dimensionality than the inputs. These provide a reduced-dimensional view of the data akin to those learned by LSA, but now we have a lot more design choices and a lot more potential to learn higher-order associations in the underyling data."
   ]
  },
  {
   "cell_type": "markdown",
   "metadata": {
    "slideshow": {
     "slide_type": "slide"
    }
   },
   "source": [
    "### Overview of the autoencoder method\n",
    "\n",
    "The module `tf_autoencoder` uses TensorFlow to implement a simple one-layer autoencoder:\n",
    "\n",
    "$$\n",
    "\\begin{align}\n",
    "h &= \\mathbf{f}(xW + b_{h}) \\\\\n",
    "\\widehat{x} &= hW^{\\top} + b_{x}\n",
    "\\end{align}$$\n",
    "\n",
    "Here, we assume that the hidden representation $h$ has a low dimensionality like 100, and that $\\mathbf{f}$ is a non-linear activation function (the default for `tf_autoencoder` is `tanh`). These are the major design choices internal to the network. It might also be meaningful to assume that there are two matrices of weights $W_{xh}$ and $W_{hx}$, rather than using $W^{\\top}$ for the output step.\n",
    "\n",
    "The objective function for autoencoders will implement some kind of assessment of the distance between the inputs and their predicted outputs. For example, one could use the one-half mean squared error:\n",
    "\n",
    "$$\\frac{1}{m}\\sum_{i=1}^{m} \\frac{1}{2}(\\widehat{X[i]} - X[i])^{2}$$\n",
    "\n",
    "where $X$ is the input matrix of examples (dimension $m \\times n$) and $X[i]$ corresponds to the $i$th example.\n",
    "\n",
    "When you call the `fit` method of `tf_autoencoder.TfAutoencoder`, it returns the matrix of hidden representations $h$, which is the new embedding space: same row count as the input, but with the column count set by the `hidden_dim` parameter.\n",
    "\n",
    "For much more on autoencoders, see the 'Autoencoders' chapter of [Goodfellow et al. 2016](http://www.deeplearningbook.org)."
   ]
  },
  {
   "cell_type": "markdown",
   "metadata": {
    "slideshow": {
     "slide_type": "slide"
    }
   },
   "source": [
    "### Testing the autoencoder implementation\n",
    "\n",
    "Here's an evaluation that is meant to test the autoencoder implementation – we expect it to be able to full encode the input matrix because we know its rank is equal to the dimensionality of the hidden representation."
   ]
  },
  {
   "cell_type": "code",
   "execution_count": 27,
   "metadata": {},
   "outputs": [],
   "source": [
    "def randmatrix(m, n, sigma=0.1, mu=0):\n",
    "    return sigma * np.random.randn(m, n) + mu\n",
    "\n",
    "def autoenoder_evaluation(nrow=1000, ncol=100, rank=20, max_iter=20000):\n",
    "    \"\"\"This an evaluation in which `TfAutoencoder` should be able\n",
    "    to perfectly reconstruct the input data, because the\n",
    "    hidden representations have the same dimensionality as\n",
    "    the rank of the input matrix.\n",
    "    \"\"\"\n",
    "    X = randmatrix(nrow, rank).dot(randmatrix(rank, ncol))\n",
    "    ae = TfAutoencoder(hidden_dim=rank, max_iter=max_iter)\n",
    "    ae.fit(X)\n",
    "    X_pred = ae.predict(X)\n",
    "    mse = (0.5 * (X_pred - X)**2).mean()\n",
    "    return(X, X_pred, mse)"
   ]
  },
  {
   "cell_type": "code",
   "execution_count": 28,
   "metadata": {},
   "outputs": [
    {
     "name": "stderr",
     "output_type": "stream",
     "text": [
      "Iteration 100: loss: 0.0010361233726143837"
     ]
    },
    {
     "name": "stdout",
     "output_type": "stream",
     "text": [
      "Autoencoder evaluation MSE after 100 evaluations: 0.0010\n"
     ]
    }
   ],
   "source": [
    "ae_max_iter = 100\n",
    "\n",
    "_, _, ae = autoenoder_evaluation(max_iter=ae_max_iter)\n",
    "\n",
    "print(\"Autoencoder evaluation MSE after {0} evaluations: {1:0.04f}\".format(ae_max_iter, ae))"
   ]
  },
  {
   "cell_type": "markdown",
   "metadata": {
    "slideshow": {
     "slide_type": "slide"
    }
   },
   "source": [
    "### Applying autoencoders to real VSMs\n",
    "\n",
    "You can apply the autoencoder directly to the count matrix, but this could interact very badly with the internal activation function: if the counts are all very high or very low, then everything might get pushed irrevocably towards the extreme values of the activation.\n",
    "\n",
    "Thus, it's a good idea to first normalize the values somehow. Here, I use `vsm.length_norm`:"
   ]
  },
  {
   "cell_type": "code",
   "execution_count": 24,
   "metadata": {},
   "outputs": [
    {
     "name": "stdout",
     "output_type": "stream",
     "text": [
      "                 !         \"             #             $         %         &  \\\n",
      "!         0.999871  0.001772  2.304569e-05  2.457429e-05  0.000020  0.000064   \n",
      "\"         0.000618  0.999828  7.313002e-06  5.460419e-06  0.000006  0.000120   \n",
      "#         0.002111  0.002226  9.998130e-01  1.474467e-03  0.001094  0.000582   \n",
      "$         0.001605  0.001216  1.046889e-03  9.998719e-01  0.000734  0.000445   \n",
      "%         0.001226  0.001076  6.986101e-04  6.525929e-04  0.999805  0.000410   \n",
      "&         0.000522  0.003224  5.277792e-05  5.710312e-05  0.000058  0.999899   \n",
      "'         0.000429  0.001238  6.555429e-06  4.041619e-06  0.000005  0.000128   \n",
      "(         0.000498  0.002555  1.059028e-05  1.295297e-05  0.000009  0.000141   \n",
      ")         0.000638  0.001529  9.235046e-06  9.156571e-06  0.000007  0.000115   \n",
      ");        0.000424  0.001239  2.008450e-06  1.381222e-06  0.000004  0.000081   \n",
      "*         0.001939  0.001854  1.250652e-04  8.746280e-05  0.000082  0.000110   \n",
      "**        0.003314  0.002429  9.247669e-05  1.326793e-05  0.000005  0.000082   \n",
      "***       0.003010  0.002755  2.510733e-05  1.778155e-05  0.000010  0.000167   \n",
      "****      0.002056  0.001637  6.176107e-06  1.475209e-06  0.000002  0.000059   \n",
      "*****     0.002672  0.000776  0.000000e+00  8.583308e-07  0.000009  0.000051   \n",
      "+         0.001315  0.001848  3.894727e-05  9.721593e-05  0.000075  0.000118   \n",
      ",         0.000331  0.001650  3.975528e-06  5.389053e-06  0.000007  0.000066   \n",
      "-         0.000626  0.002057  5.290819e-05  1.221149e-05  0.000014  0.000070   \n",
      ".         0.000171  0.001094  6.393723e-06  6.905790e-06  0.000009  0.000047   \n",
      "..        0.001433  0.001529  1.065821e-05  1.330295e-05  0.000009  0.000082   \n",
      "...       0.001235  0.002440  1.184532e-05  1.311646e-05  0.000011  0.000077   \n",
      "....      0.001705  0.001862  8.511846e-06  2.961891e-05  0.000017  0.000109   \n",
      ".....     0.002245  0.001812  1.797233e-05  2.363826e-05  0.000014  0.000129   \n",
      "/         0.000426  0.001997  5.981287e-06  9.564130e-06  0.000014  0.000113   \n",
      "0         0.001777  0.000897  3.631655e-06  3.203784e-05  0.000093  0.000035   \n",
      "1         0.000965  0.002429  1.861294e-03  2.957803e-04  0.000096  0.000477   \n",
      "1/2       0.000813  0.001845  1.823460e-06  4.680890e-06  0.000009  0.000183   \n",
      "10        0.001264  0.001210  1.150390e-05  1.757290e-04  0.000087  0.000052   \n",
      "10/1      0.002078  0.000371  3.340326e-06  1.455232e-06  0.000028  0.000016   \n",
      "100       0.001086  0.001692  6.157243e-05  2.538696e-05  0.005288  0.000081   \n",
      "...            ...       ...           ...           ...       ...       ...   \n",
      "yen       0.000422  0.001888  0.000000e+00  1.589640e-05  0.000000  0.000062   \n",
      "yerevan   0.000000  0.000000  0.000000e+00  0.000000e+00  0.000000  0.000000   \n",
      "yes       0.002437  0.001987  5.380047e-06  6.216584e-06  0.000008  0.000060   \n",
      "yet       0.000485  0.001419  2.053992e-06  2.912092e-06  0.000006  0.000058   \n",
      "york      0.000225  0.003674  3.724000e-06  5.405263e-06  0.000005  0.000099   \n",
      "you       0.000797  0.001597  3.807564e-06  8.331866e-06  0.000008  0.000037   \n",
      "you'd     0.000470  0.001295  4.982941e-07  9.086584e-06  0.000006  0.000025   \n",
      "you'll    0.000726  0.001462  1.108969e-06  7.844488e-06  0.000007  0.000044   \n",
      "you're    0.000714  0.001867  7.199016e-06  4.556085e-06  0.000007  0.000027   \n",
      "you've    0.001019  0.002965  3.539147e-06  8.297450e-06  0.000009  0.000069   \n",
      "young     0.000272  0.001479  5.477841e-06  8.492868e-07  0.000002  0.000109   \n",
      "younger   0.000224  0.000562  2.970797e-07  3.921450e-07  0.000001  0.000080   \n",
      "youngest  0.000226  0.000931  0.000000e+00  0.000000e+00  0.000000  0.000019   \n",
      "your      0.000794  0.001957  6.828637e-06  3.295740e-05  0.000009  0.000052   \n",
      "yourself  0.000639  0.001060  4.305856e-06  1.405722e-05  0.000021  0.000028   \n",
      "youth     0.000201  0.002023  1.877358e-06  1.430368e-06  0.000004  0.000062   \n",
      "zagreb    0.000615  0.000130  0.000000e+00  0.000000e+00  0.000000  0.000000   \n",
      "zambia    0.000000  0.000122  0.000000e+00  0.000000e+00  0.000000  0.000000   \n",
      "zebra     0.000293  0.011041  0.000000e+00  0.000000e+00  0.000000  0.000005   \n",
      "zimbabwe  0.000000  0.000346  0.000000e+00  0.000000e+00  0.000000  0.000000   \n",
      "zinc      0.000075  0.003624  0.000000e+00  0.000000e+00  0.000000  0.000000   \n",
      "zloty     0.000000  0.000000  0.000000e+00  0.000000e+00  0.000000  0.000000   \n",
      "zombie    0.000677  0.004063  7.239434e-05  7.001126e-06  0.000006  0.000080   \n",
      "zombies   0.001152  0.002468  1.226782e-06  1.139343e-06  0.000007  0.000089   \n",
      "zoo       0.000335  0.002523  1.973065e-05  3.006683e-06  0.000004  0.000075   \n",
      "         0.000247  0.001073  3.571883e-06  6.302295e-06  0.000009  0.000053   \n",
      "         0.000158  0.000965  4.804826e-06  3.006433e-06  0.000017  0.000031   \n",
      "´         0.001971  0.002740  2.417959e-06  8.060875e-06  0.000011  0.000022   \n",
      "é         0.000249  0.001679  1.106895e-05  1.721218e-06  0.000008  0.000079   \n",
      "és        0.000185  0.000866  0.000000e+00  0.000000e+00  0.000019  0.000043   \n",
      "\n",
      "                 '         (         )            );      ...       \\\n",
      "!         0.000368  0.000783  0.000844  4.342158e-06      ...        \n",
      "\"         0.000370  0.001115  0.000744  4.898428e-06      ...        \n",
      "#         0.000557  0.001397  0.001145  2.017502e-06      ...        \n",
      "$         0.000274  0.001257  0.000808  1.006404e-06      ...        \n",
      "%         0.000236  0.000805  0.000608  2.287742e-06      ...        \n",
      "&         0.000997  0.001652  0.001256  7.155332e-06      ...        \n",
      "'         0.999837  0.001032  0.000716  4.716526e-06      ...        \n",
      "(         0.000676  0.999869  0.009322  3.683197e-05      ...        \n",
      ")         0.000454  0.012388  0.999865  1.620531e-06      ...        \n",
      ");        0.000370  0.005197  0.000207  9.999662e-01      ...        \n",
      "*         0.000463  0.004003  0.001761  2.966215e-06      ...        \n",
      "**        0.000550  0.019832  0.010515  7.075399e-07      ...        \n",
      "***       0.000592  0.017623  0.010014  3.362646e-07      ...        \n",
      "****      0.000357  0.012134  0.007693  8.505445e-07      ...        \n",
      "*****     0.000302  0.009967  0.002682  0.000000e+00      ...        \n",
      "+         0.000416  0.003154  0.001721  2.793968e-05      ...        \n",
      ",         0.000444  0.000680  0.000626  2.260449e-06      ...        \n",
      "-         0.000552  0.000827  0.000620  3.780314e-06      ...        \n",
      ".         0.000329  0.000374  0.000460  4.048099e-07      ...        \n",
      "..        0.000439  0.000823  0.000619  7.583012e-07      ...        \n",
      "...       0.000505  0.000568  0.000639  2.097672e-06      ...        \n",
      "....      0.000428  0.000490  0.000523  5.472938e-07      ...        \n",
      ".....     0.000389  0.000473  0.000467  1.418282e-07      ...        \n",
      "/         0.000690  0.001552  0.000975  5.933670e-06      ...        \n",
      "0         0.000408  0.000935  0.000811  2.332493e-06      ...        \n",
      "1         0.000772  0.002566  0.004807  1.568317e-05      ...        \n",
      "1/2       0.000517  0.050313  0.030852  9.485998e-07      ...        \n",
      "10        0.000378  0.001296  0.000733  3.588570e-06      ...        \n",
      "10/1      0.000110  0.000811  0.000596  4.236959e-07      ...        \n",
      "100       0.000543  0.000843  0.000584  1.619839e-06      ...        \n",
      "...            ...       ...       ...           ...      ...        \n",
      "yen       0.000444  0.002931  0.001851  7.483041e-06      ...        \n",
      "yerevan   0.000000  0.000000  0.000000  0.000000e+00      ...        \n",
      "yes       0.000461  0.001498  0.000636  1.668923e-06      ...        \n",
      "yet       0.000426  0.000560  0.000589  3.776040e-06      ...        \n",
      "york      0.000890  0.001361  0.001049  5.061699e-06      ...        \n",
      "you       0.000323  0.000423  0.000338  1.441706e-06      ...        \n",
      "you'd     0.000360  0.000358  0.000358  1.804136e-06      ...        \n",
      "you'll    0.000330  0.000412  0.000403  2.478775e-06      ...        \n",
      "you're    0.000386  0.000452  0.000347  2.205333e-06      ...        \n",
      "you've    0.000576  0.000683  0.000431  1.531168e-06      ...        \n",
      "young     0.000469  0.002105  0.001359  3.541036e-06      ...        \n",
      "younger   0.000238  0.001406  0.000975  4.383947e-06      ...        \n",
      "youngest  0.000129  0.001504  0.001266  1.481138e-05      ...        \n",
      "your      0.000403  0.000379  0.000315  1.317631e-06      ...        \n",
      "yourself  0.000199  0.000225  0.000257  2.757049e-07      ...        \n",
      "youth     0.001023  0.000761  0.000512  3.154751e-06      ...        \n",
      "zagreb    0.000000  0.001438  0.002644  0.000000e+00      ...        \n",
      "zambia    0.000000  0.000382  0.000289  0.000000e+00      ...        \n",
      "zebra     0.000279  0.002648  0.001813  1.467892e-05      ...        \n",
      "zimbabwe  0.000090  0.001112  0.000868  0.000000e+00      ...        \n",
      "zinc      0.003703  0.000000  0.000491  0.000000e+00      ...        \n",
      "zloty     0.000000  0.006407  0.000000  0.000000e+00      ...        \n",
      "zombie    0.001218  0.001161  0.000725  1.798573e-06      ...        \n",
      "zombies   0.000516  0.000736  0.000524  2.161719e-06      ...        \n",
      "zoo       0.000499  0.001298  0.000938  1.048843e-05      ...        \n",
      "         0.000595  0.000705  0.000540  7.113131e-06      ...        \n",
      "         0.000342  0.000636  0.000443  1.502594e-06      ...        \n",
      "´         0.000084  0.000729  0.000521  1.065544e-06      ...        \n",
      "é         0.001328  0.001183  0.000865  4.486823e-06      ...        \n",
      "és        0.000352  0.000640  0.000259  5.907484e-07      ...        \n",
      "\n",
      "                  zinc         zloty        zombie       zombies  \\\n",
      "!         1.272847e-09  0.000000e+00  1.612548e-05  2.109472e-05   \n",
      "\"         2.362610e-08  0.000000e+00  2.640939e-05  1.020854e-05   \n",
      "#         0.000000e+00  0.000000e+00  3.760818e-04  1.800736e-06   \n",
      "$         0.000000e+00  0.000000e+00  1.127754e-05  1.141211e-06   \n",
      "%         0.000000e+00  0.000000e+00  7.685980e-06  5.912298e-06   \n",
      "&         0.000000e+00  0.000000e+00  1.370830e-05  1.135107e-05   \n",
      "'         7.758802e-08  0.000000e+00  2.882692e-05  8.385501e-06   \n",
      "(         0.000000e+00  1.639580e-08  2.273816e-05  9.305146e-06   \n",
      ")         6.075407e-09  0.000000e+00  1.506056e-05  6.112150e-06   \n",
      ");        0.000000e+00  0.000000e+00  3.351002e-06  2.906622e-06   \n",
      "*         0.000000e+00  0.000000e+00  3.480281e-05  5.660812e-06   \n",
      "**        0.000000e+00  0.000000e+00  3.729547e-04  2.355667e-05   \n",
      "***       0.000000e+00  0.000000e+00  3.286173e-05  1.367544e-06   \n",
      "****      0.000000e+00  0.000000e+00  1.117815e-05  7.556678e-06   \n",
      "*****     0.000000e+00  0.000000e+00  4.498308e-06  3.748178e-07   \n",
      "+         0.000000e+00  0.000000e+00  2.115786e-05  1.270327e-05   \n",
      ",         1.071629e-08  0.000000e+00  1.446878e-05  9.136420e-06   \n",
      "-         8.508084e-09  0.000000e+00  1.058668e-05  6.489924e-06   \n",
      ".         1.466863e-09  1.999688e-09  1.270383e-05  7.074329e-06   \n",
      "..        0.000000e+00  0.000000e+00  1.482086e-05  1.146006e-05   \n",
      "...       0.000000e+00  0.000000e+00  1.909632e-05  1.394279e-05   \n",
      "....      1.091231e-07  0.000000e+00  2.446204e-05  1.040872e-05   \n",
      ".....     0.000000e+00  0.000000e+00  7.541751e-06  8.113158e-06   \n",
      "/         0.000000e+00  0.000000e+00  7.636115e-05  1.356921e-05   \n",
      "0         0.000000e+00  0.000000e+00  2.642424e-06  8.018591e-07   \n",
      "1         0.000000e+00  0.000000e+00  4.283993e-05  2.045951e-05   \n",
      "1/2       0.000000e+00  0.000000e+00  1.759391e-05  6.841432e-06   \n",
      "10        0.000000e+00  3.164126e-07  5.368010e-06  1.647118e-06   \n",
      "10/1      0.000000e+00  0.000000e+00  1.330284e-06  5.576378e-07   \n",
      "100       0.000000e+00  0.000000e+00  1.356794e-05  7.612502e-06   \n",
      "...                ...           ...           ...           ...   \n",
      "yen       0.000000e+00  0.000000e+00  0.000000e+00  0.000000e+00   \n",
      "yerevan   0.000000e+00  0.000000e+00  0.000000e+00  0.000000e+00   \n",
      "yes       0.000000e+00  0.000000e+00  1.274851e-05  1.481311e-05   \n",
      "yet       0.000000e+00  0.000000e+00  1.288336e-05  4.631946e-06   \n",
      "york      0.000000e+00  0.000000e+00  8.849516e-06  3.852651e-06   \n",
      "you       4.913199e-09  0.000000e+00  1.298703e-05  6.655087e-06   \n",
      "you'd     0.000000e+00  0.000000e+00  2.318699e-05  2.287771e-06   \n",
      "you'll    0.000000e+00  0.000000e+00  1.263207e-05  3.702419e-06   \n",
      "you're    0.000000e+00  0.000000e+00  2.090537e-05  5.313666e-06   \n",
      "you've    0.000000e+00  0.000000e+00  3.561594e-05  1.202523e-05   \n",
      "young     0.000000e+00  0.000000e+00  3.810121e-06  1.716726e-06   \n",
      "younger   0.000000e+00  0.000000e+00  1.320354e-07  2.051773e-07   \n",
      "youngest  0.000000e+00  0.000000e+00  3.364180e-07  5.321520e-06   \n",
      "your      0.000000e+00  0.000000e+00  1.732291e-05  6.174034e-06   \n",
      "yourself  0.000000e+00  0.000000e+00  5.977111e-06  4.621116e-06   \n",
      "youth     0.000000e+00  0.000000e+00  1.723612e-06  2.594725e-06   \n",
      "zagreb    0.000000e+00  0.000000e+00  0.000000e+00  0.000000e+00   \n",
      "zambia    0.000000e+00  0.000000e+00  0.000000e+00  0.000000e+00   \n",
      "zebra     0.000000e+00  0.000000e+00  0.000000e+00  0.000000e+00   \n",
      "zimbabwe  0.000000e+00  0.000000e+00  0.000000e+00  0.000000e+00   \n",
      "zinc      9.999134e-01  0.000000e+00  0.000000e+00  0.000000e+00   \n",
      "zloty     0.000000e+00  9.995697e-01  0.000000e+00  0.000000e+00   \n",
      "zombie    0.000000e+00  0.000000e+00  9.996955e-01  1.682140e-04   \n",
      "zombies   0.000000e+00  0.000000e+00  2.745704e-04  9.998700e-01   \n",
      "zoo       0.000000e+00  0.000000e+00  1.002228e-05  0.000000e+00   \n",
      "         0.000000e+00  0.000000e+00  5.922948e-06  5.774149e-06   \n",
      "         0.000000e+00  0.000000e+00  1.292209e-05  8.896803e-06   \n",
      "´         0.000000e+00  0.000000e+00  3.163236e-05  2.887115e-06   \n",
      "é         0.000000e+00  0.000000e+00  1.188274e-05  1.255115e-06   \n",
      "és        0.000000e+00  0.000000e+00  1.796643e-05  5.669069e-06   \n",
      "\n",
      "                   zoo                                       ´  \\\n",
      "!         4.222693e-07  1.367464e-05  1.927502e-06  2.096423e-05   \n",
      "\"         9.243449e-07  1.726061e-05  3.239039e-06  1.301307e-05   \n",
      "#         2.162130e-06  1.793911e-05  5.275154e-06  3.215993e-06   \n",
      "$         2.575345e-07  2.022470e-05  2.559265e-06  5.836653e-06   \n",
      "%         3.166545e-07  2.777303e-05  1.144995e-05  7.367727e-06   \n",
      "&         8.156604e-07  1.798994e-05  3.225665e-06  2.303187e-06   \n",
      "'         6.890706e-07  3.332950e-05  5.011051e-06  1.357027e-06   \n",
      "(         1.861583e-06  2.796921e-05  3.916552e-06  6.282681e-06   \n",
      ")         1.599599e-06  2.081060e-05  3.725495e-06  4.261016e-06   \n",
      ");        1.284936e-06  3.611993e-05  1.642270e-06  1.277687e-06   \n",
      "*         1.532504e-07  2.986041e-05  7.833315e-07  4.577554e-06   \n",
      "**        2.414470e-05  2.637232e-05  3.338001e-07  5.846071e-06   \n",
      "***       4.841663e-06  7.492951e-06  1.616047e-07  1.029319e-05   \n",
      "****      0.000000e+00  3.379804e-06  7.689437e-08  1.782716e-06   \n",
      "*****     0.000000e+00  2.735162e-07  0.000000e+00  4.017132e-06   \n",
      "+         0.000000e+00  1.270508e-05  6.824546e-08  2.973204e-05   \n",
      ",         6.504378e-07  1.139767e-05  3.711322e-06  8.382091e-06   \n",
      "-         3.876966e-07  1.372496e-05  3.334413e-06  5.941011e-06   \n",
      ".         5.530998e-07  6.064936e-06  1.369557e-06  9.112186e-06   \n",
      "..        6.969050e-07  2.814451e-06  9.692951e-07  2.244486e-05   \n",
      "...       6.136884e-07  1.957563e-06  4.870553e-07  2.320628e-05   \n",
      "....      3.369072e-07  2.803902e-07  4.440686e-07  1.952170e-05   \n",
      ".....     3.040712e-07  1.267693e-06  1.231208e-07  3.334889e-05   \n",
      "/         5.340731e-07  1.562001e-05  3.638187e-06  1.106161e-05   \n",
      "0         0.000000e+00  3.177165e-05  2.378813e-08  3.181583e-06   \n",
      "1         5.532443e-06  9.181067e-05  1.856463e-06  7.508505e-06   \n",
      "1/2       7.969793e-05  8.694320e-06  8.323544e-08  0.000000e+00   \n",
      "10        0.000000e+00  8.620560e-05  7.152152e-07  3.221265e-06   \n",
      "10/1      0.000000e+00  4.507600e-05  0.000000e+00  5.178005e-06   \n",
      "100       0.000000e+00  1.763346e-05  7.177992e-06  5.895884e-06   \n",
      "...                ...           ...           ...           ...   \n",
      "yen       0.000000e+00  9.022302e-06  1.610556e-06  0.000000e+00   \n",
      "yerevan   0.000000e+00  0.000000e+00  0.000000e+00  0.000000e+00   \n",
      "yes       3.995691e-08  2.515731e-05  8.487064e-06  2.258262e-05   \n",
      "yet       2.433566e-06  2.061253e-05  6.351971e-06  1.369049e-05   \n",
      "york      3.509795e-05  3.561107e-05  3.703692e-06  7.965865e-06   \n",
      "you       2.325539e-07  1.259050e-05  2.952128e-06  2.347469e-05   \n",
      "you'd     5.735760e-07  1.107659e-05  2.203604e-06  0.000000e+00   \n",
      "you'll    2.343174e-08  1.533913e-05  2.183656e-06  1.158423e-07   \n",
      "you're    2.592873e-07  1.223680e-05  1.783505e-06  3.759840e-07   \n",
      "you've    4.139626e-07  4.539526e-05  3.426933e-06  0.000000e+00   \n",
      "young     1.481127e-06  2.111437e-05  8.352242e-06  4.271803e-06   \n",
      "younger   7.708013e-08  1.425722e-05  2.582075e-06  1.634392e-06   \n",
      "youngest  2.188289e-06  1.071895e-05  4.303018e-06  3.257082e-06   \n",
      "your      1.914304e-07  1.172956e-05  2.489942e-06  6.070974e-06   \n",
      "yourself  2.065073e-08  6.724095e-06  8.430875e-06  1.320289e-05   \n",
      "youth     0.000000e+00  2.036800e-05  6.857001e-06  3.616346e-05   \n",
      "zagreb    0.000000e+00  0.000000e+00  0.000000e+00  0.000000e+00   \n",
      "zambia    0.000000e+00  0.000000e+00  0.000000e+00  0.000000e+00   \n",
      "zebra     4.609890e-04  7.991074e-05  0.000000e+00  0.000000e+00   \n",
      "zimbabwe  0.000000e+00  0.000000e+00  8.588133e-04  0.000000e+00   \n",
      "zinc      0.000000e+00  0.000000e+00  0.000000e+00  0.000000e+00   \n",
      "zloty     0.000000e+00  0.000000e+00  0.000000e+00  0.000000e+00   \n",
      "zombie    6.974645e-07  1.556966e-05  5.834422e-06  3.669253e-05   \n",
      "zombies   0.000000e+00  1.980552e-05  7.799545e-06  2.163804e-06   \n",
      "zoo       9.997768e-01  3.933326e-05  3.383470e-06  0.000000e+00   \n",
      "         1.017562e-06  9.999649e-01  3.314830e-06  5.483121e-07   \n",
      "         3.694300e-07  1.838928e-05  9.999581e-01  0.000000e+00   \n",
      "´         0.000000e+00  2.099259e-06  0.000000e+00  9.992642e-01   \n",
      "é         0.000000e+00  3.208162e-05  6.646453e-06  9.111564e-06   \n",
      "és        0.000000e+00  2.225885e-05  5.896238e-06  3.748101e-06   \n",
      "\n",
      "                     é            és  \n",
      "!         4.904177e-06  1.647398e-06  \n",
      "\"         1.214806e-05  3.314094e-06  \n",
      "#         2.277787e-05  0.000000e+00  \n",
      "$         2.540194e-06  0.000000e+00  \n",
      "%         7.923053e-06  8.597879e-06  \n",
      "&         1.198409e-05  3.349351e-06  \n",
      "'         3.362484e-05  4.239031e-06  \n",
      "(         1.860563e-05  4.851699e-06  \n",
      ")         1.356982e-05  1.892541e-06  \n",
      ");        8.379148e-06  5.554629e-07  \n",
      "*         5.402506e-06  1.703603e-06  \n",
      "**        1.658925e-05  3.428025e-06  \n",
      "***       2.780895e-06  1.918608e-07  \n",
      "****      2.853017e-07  1.159628e-06  \n",
      "*****     1.107300e-06  3.502682e-07  \n",
      "+         4.057867e-06  1.057978e-06  \n",
      ",         1.145726e-05  5.779812e-06  \n",
      "-         2.712427e-05  5.728937e-06  \n",
      ".         8.210626e-06  4.049889e-06  \n",
      "..        9.073787e-06  2.752214e-06  \n",
      "...       1.270954e-05  4.314499e-06  \n",
      "....      1.266457e-05  1.457446e-06  \n",
      ".....     2.093304e-05  2.068938e-07  \n",
      "/         1.990938e-05  6.638586e-06  \n",
      "0         2.576177e-07  1.627728e-06  \n",
      "1         1.036276e-05  7.686001e-06  \n",
      "1/2       2.380862e-07  1.188065e-06  \n",
      "10        1.866425e-06  9.532454e-07  \n",
      "10/1      5.523891e-07  4.382932e-07  \n",
      "100       5.028885e-06  6.687214e-06  \n",
      "...                ...           ...  \n",
      "yen       0.000000e+00  0.000000e+00  \n",
      "yerevan   0.000000e+00  0.000000e+00  \n",
      "yes       1.859899e-05  9.265013e-06  \n",
      "yet       1.138516e-05  4.012441e-06  \n",
      "york      9.822052e-06  6.199402e-07  \n",
      "you       7.064630e-06  3.959037e-06  \n",
      "you'd     4.537660e-06  8.984118e-06  \n",
      "you'll    7.438121e-06  3.225476e-06  \n",
      "you're    5.636615e-06  4.962802e-06  \n",
      "you've    1.510087e-05  5.322359e-06  \n",
      "young     1.071189e-05  3.623321e-06  \n",
      "younger   2.567700e-06  3.564956e-07  \n",
      "youngest  9.930609e-06  1.079018e-06  \n",
      "your      6.606474e-06  3.339945e-06  \n",
      "yourself  4.778560e-06  3.367792e-07  \n",
      "youth     1.008025e-05  3.559364e-06  \n",
      "zagreb    0.000000e+00  0.000000e+00  \n",
      "zambia    0.000000e+00  0.000000e+00  \n",
      "zebra     0.000000e+00  0.000000e+00  \n",
      "zimbabwe  0.000000e+00  0.000000e+00  \n",
      "zinc      0.000000e+00  0.000000e+00  \n",
      "zloty     0.000000e+00  0.000000e+00  \n",
      "zombie    1.076193e-05  9.573886e-06  \n",
      "zombies   1.911202e-06  3.717190e-06  \n",
      "zoo       0.000000e+00  0.000000e+00  \n",
      "         1.399206e-05  4.380103e-06  \n",
      "         1.107844e-05  5.252804e-06  \n",
      "´         1.907116e-05  3.226601e-06  \n",
      "é         9.998519e-01  1.926579e-05  \n",
      "és        3.747871e-05  9.997757e-01  \n",
      "\n",
      "[5000 rows x 5000 columns]\n"
     ]
    }
   ],
   "source": [
    "imdb5_l2 = imdb5.apply(vsm.length_norm, axis=1)\n",
    "print(imdb5_l2)"
   ]
  },
  {
   "cell_type": "code",
   "execution_count": 27,
   "metadata": {},
   "outputs": [
    {
     "name": "stderr",
     "output_type": "stream",
     "text": [
      "Iteration 3: loss: 0.0004998978401999921"
     ]
    },
    {
     "name": "stdout",
     "output_type": "stream",
     "text": [
      "                0         1         2         3         4         5   \\\n",
      "!         0.014173  0.027541  0.012288 -0.002500  0.016483  0.025007   \n",
      "\"         0.031688  0.000895  0.027635 -0.025467  0.011755 -0.016204   \n",
      "#        -0.001059  0.007191 -0.014975  0.002670 -0.012628 -0.030064   \n",
      "$         0.031313 -0.032439 -0.006046 -0.029010 -0.017627 -0.023344   \n",
      "%         0.003245 -0.017468 -0.004954  0.019603  0.006020  0.014953   \n",
      "&        -0.008637 -0.032454  0.009240 -0.022418 -0.006185 -0.018084   \n",
      "'        -0.001471 -0.032129 -0.033701  0.018205 -0.030899 -0.020795   \n",
      "(        -0.001159 -0.030972  0.033706 -0.000764  0.032556 -0.030930   \n",
      ")        -0.020984  0.004365 -0.031666 -0.020940 -0.001728  0.010387   \n",
      ");        0.015108 -0.030977 -0.019400  0.026310  0.021600  0.006509   \n",
      "*         0.012295 -0.003016 -0.015648 -0.005122  0.014108  0.008811   \n",
      "**       -0.032065 -0.026961 -0.006937  0.019303 -0.024602 -0.001951   \n",
      "***       0.006613 -0.020253 -0.029475  0.031915  0.014192 -0.013796   \n",
      "****     -0.024120  0.032390  0.019553 -0.003956  0.034066  0.019991   \n",
      "*****    -0.023758  0.026456  0.006813 -0.016966 -0.023062 -0.000130   \n",
      "+        -0.029292 -0.034271  0.005083 -0.022558 -0.015763 -0.014995   \n",
      ",         0.006688 -0.007298 -0.005069 -0.007579  0.019903 -0.024741   \n",
      "-         0.029770 -0.016222  0.004154  0.005301  0.017534  0.028045   \n",
      ".        -0.000437 -0.029043  0.028681  0.025502 -0.028755  0.009316   \n",
      "..        0.025802 -0.005538 -0.020286 -0.011196 -0.016227 -0.018188   \n",
      "...      -0.010116 -0.014725 -0.022983 -0.021314  0.001754 -0.023459   \n",
      "....      0.023609  0.034356  0.013328 -0.023121 -0.021306 -0.005152   \n",
      ".....     0.006260  0.005453  0.025520  0.000674  0.030295  0.027949   \n",
      "/         0.030327 -0.003177 -0.033249 -0.007565 -0.021825  0.021612   \n",
      "0         0.015590 -0.006864 -0.014023 -0.012772 -0.018220  0.029910   \n",
      "1        -0.006576  0.015727  0.012982 -0.007130  0.017588  0.008073   \n",
      "1/2       0.000906 -0.025688  0.033979 -0.009298 -0.027623  0.019407   \n",
      "10        0.003283 -0.015896  0.013342  0.012496  0.034218  0.034216   \n",
      "10/1      0.030766 -0.030809  0.007305 -0.020829 -0.004739 -0.033629   \n",
      "100      -0.018235 -0.017483  0.001531  0.006228 -0.031005 -0.025566   \n",
      "...            ...       ...       ...       ...       ...       ...   \n",
      "yen      -0.026164  0.009146 -0.033817  0.008946 -0.003825 -0.000009   \n",
      "yerevan   0.008868  0.028498  0.025727  0.031201 -0.016185 -0.009843   \n",
      "yes       0.026302  0.023831  0.008555 -0.002145 -0.029614  0.006756   \n",
      "yet       0.008466  0.017425  0.016685  0.031915 -0.014976  0.000928   \n",
      "york     -0.031114  0.006650  0.015053 -0.026360  0.019217 -0.032900   \n",
      "you      -0.000801  0.003152 -0.008598  0.006205 -0.031198  0.010871   \n",
      "you'd    -0.013032  0.032916  0.013939  0.014919  0.016772 -0.011120   \n",
      "you'll    0.013983  0.010715  0.007845 -0.015252  0.034095  0.022581   \n",
      "you're   -0.005685  0.000427 -0.032104 -0.028247  0.030507 -0.008592   \n",
      "you've    0.011674 -0.002014 -0.010138  0.027508  0.020974 -0.033353   \n",
      "young    -0.020390  0.002264 -0.015991  0.027534 -0.021914 -0.019810   \n",
      "younger   0.030507  0.016678  0.034554 -0.007159  0.003693  0.027946   \n",
      "youngest  0.034628  0.023619  0.010542 -0.028788  0.023127 -0.009885   \n",
      "your      0.000049  0.004554 -0.018705 -0.008027  0.031438 -0.017504   \n",
      "yourself  0.029790  0.005459 -0.030907  0.000245 -0.032604  0.019806   \n",
      "youth    -0.030960  0.022150 -0.025833 -0.015610  0.019701  0.034510   \n",
      "zagreb    0.015278  0.026329  0.002980  0.026465  0.030359 -0.025050   \n",
      "zambia    0.032356  0.007679  0.014909 -0.023657  0.003279 -0.032557   \n",
      "zebra     0.026727  0.003545  0.027076 -0.023812 -0.000632  0.032586   \n",
      "zimbabwe -0.034022  0.005698  0.023757 -0.030986  0.022057  0.012366   \n",
      "zinc      0.026616  0.017378 -0.015233 -0.028914  0.005692  0.030065   \n",
      "zloty    -0.023767  0.002276 -0.029702 -0.015313  0.011651 -0.018743   \n",
      "zombie   -0.016307  0.023636 -0.029089 -0.013416 -0.019521 -0.019380   \n",
      "zombies   0.019892  0.016524 -0.025870  0.004201  0.028443  0.032453   \n",
      "zoo      -0.019189  0.030930 -0.030819  0.022171  0.020148 -0.031809   \n",
      "         0.017638  0.007411 -0.021104  0.020960 -0.004375  0.013927   \n",
      "         0.003344 -0.013085  0.014498 -0.032349 -0.002480  0.021714   \n",
      "´         0.004407 -0.003541 -0.034350 -0.013041 -0.003756 -0.027130   \n",
      "é         0.002700  0.029265  0.005492  0.012150 -0.011677 -0.001370   \n",
      "és       -0.015992 -0.009290  0.031546 -0.023064 -0.019069  0.007967   \n",
      "\n",
      "                6         7         8         9     ...           40  \\\n",
      "!         0.031104  0.029340 -0.016665 -0.008279    ...     0.019227   \n",
      "\"        -0.001834  0.032956 -0.023650  0.031742    ...    -0.019535   \n",
      "#        -0.024364  0.001556  0.014671  0.000774    ...    -0.032432   \n",
      "$        -0.017716 -0.027975 -0.004761  0.004346    ...     0.008660   \n",
      "%        -0.019578  0.031168  0.033755  0.030684    ...     0.023105   \n",
      "&         0.014149  0.009618  0.008337 -0.012718    ...    -0.006365   \n",
      "'        -0.018258 -0.014581 -0.002052 -0.020641    ...     0.001880   \n",
      "(        -0.023846 -0.008217  0.016990  0.010107    ...    -0.009902   \n",
      ")         0.008445 -0.004592 -0.018558  0.004708    ...    -0.000994   \n",
      ");       -0.001400  0.022834 -0.012205 -0.008145    ...     0.010530   \n",
      "*         0.026811 -0.006432  0.014647  0.003617    ...     0.003659   \n",
      "**        0.026584 -0.030201 -0.023957 -0.000694    ...     0.012700   \n",
      "***      -0.011939  0.022650  0.031502  0.011060    ...     0.002483   \n",
      "****      0.009701 -0.010013  0.021607 -0.003392    ...     0.002914   \n",
      "*****    -0.027717 -0.029947 -0.017322 -0.001486    ...     0.013641   \n",
      "+        -0.031627 -0.026249  0.019871  0.023828    ...    -0.016654   \n",
      ",        -0.023943 -0.019690 -0.001163  0.033842    ...    -0.016936   \n",
      "-         0.024283  0.032733 -0.013301 -0.005010    ...    -0.016296   \n",
      ".         0.020464 -0.012505  0.001273  0.001337    ...     0.018167   \n",
      "..       -0.005319 -0.009823  0.033284 -0.009746    ...    -0.029314   \n",
      "...       0.010163 -0.021597  0.014328  0.021317    ...     0.028621   \n",
      "....     -0.015219 -0.005174 -0.018161  0.020113    ...     0.025570   \n",
      ".....     0.017411  0.003968 -0.007503  0.021972    ...    -0.015444   \n",
      "/         0.025302  0.029073 -0.000896 -0.009457    ...    -0.025296   \n",
      "0         0.015786 -0.013072 -0.032790 -0.032913    ...     0.020328   \n",
      "1         0.019701 -0.031577 -0.002347 -0.004771    ...     0.022799   \n",
      "1/2      -0.000184 -0.004342 -0.011167 -0.016008    ...    -0.032700   \n",
      "10       -0.000074 -0.032523  0.011004 -0.018893    ...    -0.008755   \n",
      "10/1     -0.010635  0.004143 -0.023387 -0.029171    ...     0.025558   \n",
      "100      -0.027018  0.006571 -0.008886  0.014815    ...    -0.016468   \n",
      "...            ...       ...       ...       ...    ...          ...   \n",
      "yen       0.012428 -0.011774 -0.005708 -0.013269    ...    -0.001542   \n",
      "yerevan   0.013605 -0.016157  0.013494  0.021913    ...    -0.035051   \n",
      "yes       0.009592 -0.016735 -0.015718 -0.026088    ...    -0.008986   \n",
      "yet      -0.009171  0.029398  0.018702 -0.021824    ...    -0.020406   \n",
      "york     -0.016943  0.034387 -0.013225  0.033860    ...     0.019624   \n",
      "you      -0.012580  0.008738  0.015627 -0.013284    ...     0.014676   \n",
      "you'd     0.020528 -0.017886 -0.018274 -0.001678    ...    -0.016758   \n",
      "you'll    0.026911  0.025785  0.008008  0.005134    ...     0.000216   \n",
      "you're   -0.017718  0.001852 -0.009106 -0.017615    ...    -0.008877   \n",
      "you've    0.017959 -0.027474  0.029473 -0.005791    ...    -0.028609   \n",
      "young     0.016469  0.005029  0.011766 -0.011814    ...     0.031203   \n",
      "younger  -0.001763 -0.031365 -0.024773 -0.017905    ...    -0.032692   \n",
      "youngest  0.030159  0.026321 -0.000264 -0.000012    ...    -0.029976   \n",
      "your     -0.003451 -0.013470  0.026858 -0.014354    ...     0.023413   \n",
      "yourself -0.003579  0.015751 -0.010818  0.001049    ...     0.034224   \n",
      "youth     0.021372  0.031327  0.029435 -0.018062    ...    -0.015851   \n",
      "zagreb    0.005928  0.025340  0.008310 -0.012897    ...     0.014644   \n",
      "zambia   -0.011730  0.020320  0.009289 -0.011917    ...    -0.029142   \n",
      "zebra    -0.011832  0.010451 -0.000450  0.000014    ...     0.002019   \n",
      "zimbabwe  0.005314 -0.024676 -0.018035  0.032341    ...    -0.003872   \n",
      "zinc     -0.030060 -0.028884  0.018424  0.025975    ...     0.004792   \n",
      "zloty    -0.031475 -0.017366 -0.023550  0.017095    ...     0.005712   \n",
      "zombie    0.006341 -0.022211 -0.031720 -0.011715    ...     0.020308   \n",
      "zombies  -0.010745  0.004163  0.015021  0.021900    ...    -0.013949   \n",
      "zoo      -0.032655  0.005048 -0.012916  0.023848    ...    -0.014388   \n",
      "         0.006446  0.033759  0.025811 -0.021035    ...     0.031293   \n",
      "         0.003365  0.032710  0.007551  0.029191    ...    -0.003106   \n",
      "´        -0.016132  0.003504  0.000940  0.004161    ...    -0.029311   \n",
      "é        -0.022660  0.003574  0.023783  0.004850    ...    -0.013994   \n",
      "és        0.023192 -0.003403  0.013947 -0.004666    ...     0.011284   \n",
      "\n",
      "                41        42        43        44        45        46  \\\n",
      "!         0.020351 -0.011117 -0.001933 -0.002139  0.018379 -0.012093   \n",
      "\"         0.034884 -0.013298  0.013660 -0.018579  0.031513  0.013657   \n",
      "#        -0.016567  0.019649  0.029292  0.014591  0.015204 -0.006154   \n",
      "$        -0.023745 -0.020121  0.029697  0.000999 -0.033649 -0.026863   \n",
      "%        -0.008286  0.012939  0.020144  0.020347  0.001542 -0.000302   \n",
      "&         0.026530  0.027136 -0.032562 -0.002929  0.005748  0.001576   \n",
      "'         0.012691 -0.025230  0.030517 -0.019355  0.016906  0.015884   \n",
      "(        -0.027569 -0.010856 -0.015609  0.020975 -0.015320  0.004694   \n",
      ")         0.010552  0.030860  0.032534  0.027147  0.010514  0.006764   \n",
      ");        0.021588 -0.029866  0.016830  0.006680  0.027033  0.002192   \n",
      "*         0.009027 -0.005226 -0.012108  0.031582 -0.032944  0.010669   \n",
      "**        0.020349 -0.021692  0.007678  0.025316 -0.034438 -0.000144   \n",
      "***      -0.013836  0.029336 -0.011410 -0.012051 -0.015784  0.009178   \n",
      "****     -0.019841 -0.000986  0.016646  0.019934  0.019958 -0.001845   \n",
      "*****    -0.028731  0.031190 -0.015772  0.017651  0.000547  0.021836   \n",
      "+         0.034420  0.030400 -0.002165 -0.000929 -0.028011 -0.030139   \n",
      ",         0.032971  0.012830 -0.014363  0.034086 -0.002023 -0.027484   \n",
      "-        -0.013646 -0.011431  0.000842 -0.012567  0.004412 -0.024460   \n",
      ".        -0.017953 -0.015147 -0.016549 -0.030317 -0.015392  0.005841   \n",
      "..        0.030101 -0.024146  0.015438 -0.019293 -0.000450 -0.009555   \n",
      "...      -0.015852 -0.020362 -0.026902 -0.016233 -0.015896  0.031611   \n",
      "....     -0.016547  0.004610 -0.023303 -0.007636 -0.020183 -0.029367   \n",
      ".....     0.019736 -0.010034  0.012044  0.034034 -0.028543  0.023680   \n",
      "/         0.014992 -0.025369  0.022593 -0.030326  0.027345 -0.007031   \n",
      "0         0.026938  0.028191  0.009971  0.004335 -0.004196  0.003178   \n",
      "1        -0.022587 -0.025259  0.029544  0.000923  0.011642 -0.024961   \n",
      "1/2       0.015782  0.027318  0.000100  0.021986  0.015399 -0.028791   \n",
      "10        0.005861 -0.001728  0.008115 -0.000816 -0.033941 -0.012060   \n",
      "10/1     -0.002445  0.034191  0.009258  0.025995 -0.008810 -0.030196   \n",
      "100      -0.028856  0.006013  0.012459  0.023392  0.031863 -0.032107   \n",
      "...            ...       ...       ...       ...       ...       ...   \n",
      "yen      -0.020852 -0.006104  0.020496  0.027165 -0.011573  0.000310   \n",
      "yerevan  -0.010763  0.005756  0.011963  0.032946 -0.011394  0.001175   \n",
      "yes       0.006293  0.025705  0.032177  0.005678  0.019554 -0.017322   \n",
      "yet      -0.000495 -0.016946  0.012539  0.020533  0.019586  0.023570   \n",
      "york      0.011832  0.033795  0.012393  0.008806  0.006802 -0.011696   \n",
      "you       0.014344  0.011448 -0.003384  0.022498  0.006493 -0.030012   \n",
      "you'd     0.019931 -0.008074 -0.025320  0.012828 -0.020575 -0.006991   \n",
      "you'll    0.002793 -0.029126  0.000707 -0.026291 -0.027549 -0.010172   \n",
      "you're   -0.025478 -0.015814 -0.011489  0.006759 -0.032896  0.031920   \n",
      "you've    0.030902  0.005302 -0.000109 -0.002106 -0.021306  0.029843   \n",
      "young    -0.025167 -0.025091 -0.029004  0.019186  0.031116  0.020151   \n",
      "younger   0.021049 -0.001188  0.012727  0.003322 -0.013438  0.010150   \n",
      "youngest -0.031193  0.000863  0.032605 -0.006403  0.000691 -0.033118   \n",
      "your      0.030553  0.017986  0.008243  0.026426 -0.000258 -0.009495   \n",
      "yourself  0.033502 -0.021366  0.013409  0.017758 -0.011431  0.004030   \n",
      "youth     0.018856 -0.012741  0.006503 -0.026213  0.004319  0.008183   \n",
      "zagreb   -0.020582  0.020095  0.010308 -0.003690  0.003134  0.027053   \n",
      "zambia   -0.017305  0.015990  0.031199 -0.025990  0.032673  0.013558   \n",
      "zebra    -0.008172  0.011461  0.013736  0.004772 -0.006712  0.003066   \n",
      "zimbabwe  0.024472  0.028756 -0.024165 -0.008819 -0.001951 -0.020191   \n",
      "zinc      0.020429  0.025959  0.001409  0.034450 -0.005734 -0.017247   \n",
      "zloty    -0.016130 -0.018016 -0.002461 -0.033449 -0.006044  0.031710   \n",
      "zombie   -0.022875  0.010196  0.031360  0.019489 -0.012068  0.029622   \n",
      "zombies  -0.015279  0.004192  0.031471  0.028880  0.025455  0.012340   \n",
      "zoo      -0.000927  0.004314 -0.013784 -0.015206 -0.024792  0.018649   \n",
      "         0.028180 -0.008374 -0.019000 -0.003506 -0.029038  0.023261   \n",
      "        -0.006152 -0.033738 -0.006732  0.010880  0.023677 -0.014805   \n",
      "´        -0.005808  0.004203  0.007178  0.002579 -0.024408 -0.003569   \n",
      "é         0.022296  0.009709  0.032491 -0.009161 -0.024836  0.014569   \n",
      "és       -0.002752 -0.027884 -0.020052  0.030691  0.002470  0.002231   \n",
      "\n",
      "                47        48        49  \n",
      "!         0.009674  0.018492  0.028652  \n",
      "\"        -0.024324 -0.007336 -0.026536  \n",
      "#         0.024446 -0.028145  0.004016  \n",
      "$         0.025408 -0.005827  0.027112  \n",
      "%        -0.007770  0.032040  0.025490  \n",
      "&         0.007745 -0.029963  0.017516  \n",
      "'         0.031366  0.000977 -0.000186  \n",
      "(         0.022866  0.003297 -0.008309  \n",
      ")         0.029849 -0.023147  0.003886  \n",
      ");        0.001887 -0.015613  0.005811  \n",
      "*        -0.003651 -0.028773  0.034333  \n",
      "**        0.016744 -0.030957  0.001215  \n",
      "***      -0.009132 -0.009023 -0.032722  \n",
      "****     -0.023314 -0.014947 -0.024344  \n",
      "*****    -0.015828  0.000019  0.007351  \n",
      "+        -0.019596  0.006048  0.009334  \n",
      ",        -0.005244 -0.018921 -0.028341  \n",
      "-        -0.015131  0.009479 -0.013849  \n",
      ".         0.029767  0.033051  0.022478  \n",
      "..        0.029338  0.015608  0.023186  \n",
      "...      -0.022174 -0.007886 -0.000249  \n",
      "....     -0.021232 -0.024488 -0.027249  \n",
      ".....    -0.029416  0.033034  0.023308  \n",
      "/        -0.021392  0.014515 -0.028648  \n",
      "0        -0.017363  0.032536  0.004147  \n",
      "1        -0.021038  0.008063  0.024219  \n",
      "1/2       0.035470 -0.011818  0.015959  \n",
      "10       -0.024197 -0.022221  0.023692  \n",
      "10/1      0.019373  0.009602 -0.012586  \n",
      "100       0.019199  0.028487 -0.015983  \n",
      "...            ...       ...       ...  \n",
      "yen      -0.016332  0.020183  0.008158  \n",
      "yerevan  -0.022786  0.008218 -0.024560  \n",
      "yes      -0.026829  0.017484  0.032758  \n",
      "yet       0.033712  0.024903  0.028876  \n",
      "york     -0.016678  0.021276  0.015740  \n",
      "you      -0.015327 -0.011668 -0.033534  \n",
      "you'd     0.004875  0.016807 -0.016711  \n",
      "you'll    0.027965 -0.033516  0.011283  \n",
      "you're    0.018521  0.028362 -0.008649  \n",
      "you've   -0.018429 -0.017333  0.015901  \n",
      "young     0.020228 -0.001189 -0.030405  \n",
      "younger  -0.028909  0.001508 -0.008915  \n",
      "youngest -0.000152 -0.030792  0.004653  \n",
      "your      0.007942  0.015226  0.021012  \n",
      "yourself  0.008600  0.025633  0.011227  \n",
      "youth     0.004475 -0.017703  0.009913  \n",
      "zagreb    0.028069 -0.004766 -0.022955  \n",
      "zambia   -0.002604 -0.002667  0.028879  \n",
      "zebra    -0.013182 -0.031062  0.012985  \n",
      "zimbabwe  0.005570 -0.015857  0.004397  \n",
      "zinc      0.002085 -0.001248  0.028337  \n",
      "zloty     0.018633  0.007432  0.016938  \n",
      "zombie   -0.033844 -0.005132 -0.023410  \n",
      "zombies   0.001121  0.032566  0.010489  \n",
      "zoo      -0.017205  0.024344  0.032957  \n",
      "         0.028599  0.029617 -0.000737  \n",
      "         0.018375 -0.033746 -0.006750  \n",
      "´        -0.030044 -0.023253 -0.013685  \n",
      "é        -0.024249 -0.000140 -0.001732  \n",
      "és       -0.023677  0.026233 -0.001500  \n",
      "\n",
      "[5000 rows x 50 columns]\n"
     ]
    }
   ],
   "source": [
    "#imdb5_l2_ae = TfAutoencoder(\n",
    "#    max_iter=100, hidden_dim=50, eta=0.001).fit(imdb5_l2)\n",
    "\n",
    "imdb5_l2_ae = TfAutoencoder(\n",
    "    max_iter=3, hidden_dim=50, eta=0.001).fit(imdb5_l2)\n",
    "\n",
    "\n",
    "\n",
    "print(imdb5_l2_ae)"
   ]
  },
  {
   "cell_type": "code",
   "execution_count": 31,
   "metadata": {},
   "outputs": [
    {
     "data": {
      "text/plain": [
       "superb       0.000000\n",
       "newer        0.496989\n",
       "trip         0.504418\n",
       "fault        0.529206\n",
       "arlington    0.541104\n",
       "dtype: float64"
      ]
     },
     "execution_count": 31,
     "metadata": {},
     "output_type": "execute_result"
    }
   ],
   "source": [
    "vsm.neighbors('superb', imdb5_l2_ae).head()"
   ]
  },
  {
   "cell_type": "markdown",
   "metadata": {},
   "source": [
    "This is very slow and seems not to work all that well. To speed things up, one can first apply LSA or similar:"
   ]
  },
  {
   "cell_type": "code",
   "execution_count": 1,
   "metadata": {},
   "outputs": [
    {
     "ename": "NameError",
     "evalue": "name 'vsm' is not defined",
     "output_type": "error",
     "traceback": [
      "\u001b[0;31m---------------------------------------------------------------------------\u001b[0m",
      "\u001b[0;31mNameError\u001b[0m                                 Traceback (most recent call last)",
      "\u001b[0;32m<ipython-input-1-fa44cdb25b48>\u001b[0m in \u001b[0;36m<module>\u001b[0;34m()\u001b[0m\n\u001b[0;32m----> 1\u001b[0;31m \u001b[0mimdb5_l2_svd100\u001b[0m \u001b[0;34m=\u001b[0m \u001b[0mvsm\u001b[0m\u001b[0;34m.\u001b[0m\u001b[0mlsa\u001b[0m\u001b[0;34m(\u001b[0m\u001b[0mimdb5_l2\u001b[0m\u001b[0;34m,\u001b[0m \u001b[0mk\u001b[0m\u001b[0;34m=\u001b[0m\u001b[0;36m100\u001b[0m\u001b[0;34m)\u001b[0m\u001b[0;34m\u001b[0m\u001b[0m\n\u001b[0m\u001b[1;32m      2\u001b[0m \u001b[0mprint\u001b[0m\u001b[0;34m(\u001b[0m\u001b[0mimdb5_12_svd100\u001b[0m\u001b[0;34m)\u001b[0m\u001b[0;34m\u001b[0m\u001b[0m\n",
      "\u001b[0;31mNameError\u001b[0m: name 'vsm' is not defined"
     ]
    }
   ],
   "source": [
    "imdb5_l2_svd100 = vsm.lsa(imdb5_l2, k=100)\n",
    "print(imdb5_12_svd100)"
   ]
  },
  {
   "cell_type": "code",
   "execution_count": 33,
   "metadata": {},
   "outputs": [
    {
     "name": "stderr",
     "output_type": "stream",
     "text": [
      "Iteration 1000: loss: 0.00011613927927101031"
     ]
    }
   ],
   "source": [
    "imdb_l2_svd100_ae = TfAutoencoder(\n",
    "    max_iter=1000, hidden_dim=50, eta=0.01).fit(imdb5_l2_svd100)\n",
    "\n",
    "\n",
    "print imdb_12_svd_100_ae"
   ]
  },
  {
   "cell_type": "code",
   "execution_count": 34,
   "metadata": {},
   "outputs": [
    {
     "data": {
      "text/plain": [
       "superb            0.000000\n",
       "brilliant         0.103738\n",
       "direction         0.115500\n",
       "cinematography    0.130195\n",
       "flawless          0.138378\n",
       "dtype: float64"
      ]
     },
     "execution_count": 34,
     "metadata": {},
     "output_type": "execute_result"
    }
   ],
   "source": [
    "vsm.neighbors('superb', imdb_l2_svd100_ae).head()"
   ]
  },
  {
   "cell_type": "markdown",
   "metadata": {
    "slideshow": {
     "slide_type": "slide"
    }
   },
   "source": [
    "## word2vec\n",
    "\n",
    "The label __word2vec__ picks out a family of models in which the embedding for a word $w$ is trained to predict the words that co-occur with $w$. This intuition can be cashed out in numerous ways. Here, we review just the __skip-gram model__, due to [Mikolov et al. 2013](https://papers.nips.cc/paper/5021-distributed-representations-of-words-and-phrases-and-their-compositionality)."
   ]
  },
  {
   "cell_type": "markdown",
   "metadata": {
    "slideshow": {
     "slide_type": "slide"
    }
   },
   "source": [
    "### Training data\n",
    "\n",
    "The most natural starting point is to transform a corpus into a supervised data set by mapping each word to a subset (maybe all) of the words that it occurs with in a given window. Schematically:\n",
    "\n",
    "__Corpus__: `it was the best of times, it was the worst of times, ...`\n",
    "\n",
    "With window size 2:\n",
    "\n",
    "```\n",
    "(it, was)\n",
    "(it, the)\n",
    "(was, it)\n",
    "(was, the)\n",
    "(was, best)\n",
    "(the, was)\n",
    "(the, it)\n",
    "(the, best)\n",
    "(the, of)\n",
    "...\n",
    "```"
   ]
  },
  {
   "cell_type": "markdown",
   "metadata": {
    "slideshow": {
     "slide_type": "slide"
    }
   },
   "source": [
    "### Basic skip-gram\n",
    "\n",
    "The basic skip-gram model estimates the probability of an input–output pair $(a, b)$ as\n",
    "\n",
    "$$P(b \\mid a) = \\frac{\\exp(x_{a}w_{b})}{\\sum_{b'\\in V}\\exp(x_{a}w_{b'})}$$\n",
    "\n",
    "where $x_{a}$ is the row-vector representation of word $a$ and $w_{b}$ is the column vector representation of word $b$. The objective is to minimize the following quantity:\n",
    "\n",
    "$$\n",
    "-\\sum_{i=1}^{m}\\sum_{k=1}^{|V|}\n",
    "\\textbf{1}\\{c_{i}=k\\} \n",
    "\\log\n",
    "\\frac{\n",
    "    \\exp(x_{i}w_{k})\n",
    "}{\n",
    "    \\sum_{j=1}^{|V|}\\exp(x_{i}w_{j})\n",
    "}$$\n",
    "\n",
    "where $V$ is the vocabulary.\n",
    "\n",
    "The inputs $x_{i}$ are the word representations, which get updated during training, and the outputs are one-hot vectors $c$. For example, if `was` is the 560th element in the vocab, then the output $c$ for the first example in the corpus above would be a vector of all $0$s except for a $1$ in the 560th position. $x$ would be the representation of `it` in the embedding space. \n",
    "\n",
    "The distribution over the entire output space for a given input word $a$ is thus a standard softmax classifier; here we add a bias term for good measure:\n",
    "\n",
    "$$c = \\textbf{softmax}(x_{a}W + b)$$\n",
    "\n",
    "If we think of this model as taking the entire matrix $X$ as input all at once, then it becomes\n",
    "\n",
    "$$c = \\textbf{softmax}(XW + b)$$\n",
    "\n",
    "and it is now very clear that we are back to the core insight that runs through all of our reweighting and dimensionality reduction methods: we have a word matrix $X$ and a context matrix $W$, and we are trying to push the dot products of these two embeddings in a specific direction: here, to maximize the likelihood of the observed co-occurrences in the corpus."
   ]
  },
  {
   "cell_type": "markdown",
   "metadata": {
    "slideshow": {
     "slide_type": "slide"
    }
   },
   "source": [
    "### Skip-gram with noise contrastive estimation \n",
    "\n",
    "Training the basic skip-gram model directly is extremely expensive for large vocabularies, because $W$, $b$, and the outputs $c$ get so large. \n",
    "\n",
    "A straightforward way to address this is to change the objective to use __noise contrastive estimation__ (negative sampling). Where $\\mathcal{D}$ is the original training corpus and $\\mathcal{D}'$ is a sample of pairs not in the corpus, we minimize\n",
    "\n",
    "$$\\sum_{a, b \\in \\mathcal{D}}-\\log\\sigma(x_{a}w_{b}) + \\sum_{a, b \\in \\mathcal{D}'}\\log\\sigma(x_{a}w_{b})$$\n",
    "\n",
    "with $\\sigma$ the sigmoid activation function $\\frac{1}{1 + \\exp(-x)}$.\n",
    "\n",
    "The advice of Mikolov et al. is to sample $\\mathcal{D}'$ proportional to a scaling of the frequency distribution of the underlying vocabulary in the corpus:\n",
    "\n",
    "$$P(w) = \\frac{\\textbf{count}(w)^{0.75}}{\\sum_{w'\\in V} \\textbf{count}(w')}$$\n",
    "\n",
    "where $V$ is the vocabulary.\n",
    "\n",
    "Although this new objective function is a substantively different objective than the previous one, Mikolov et al. (2013) say that it should approximate it, and it is building on the same insight about words and their contexts. See [Levy and Golberg 2014](http://papers.nips.cc/paper/5477-neural-word-embedding-as-implicit-matrix-factorization) for a proof that this objective reduces to PMI shifted by a constant value. See also [Cotterell et al. 2017](https://aclanthology.coli.uni-saarland.de/papers/E17-2028/e17-2028) for an interpretation of this model as a variant of PCA."
   ]
  },
  {
   "cell_type": "markdown",
   "metadata": {
    "slideshow": {
     "slide_type": "slide"
    }
   },
   "source": [
    "### word2vec resources\n",
    "\n",
    "* In the usual presentation, word2vec training involves looping repeatedly over the sequence of tokens in the corpus, sampling from the context window from each word to create the positive training pairs. I assume that this same process could be modeled by sampling (row, column) index pairs from our count matrices proportional to their cell values. However, I couldn't get this to work well. I'd be grateful if someone got it work or figured out why it won't!\n",
    "\n",
    "* Luckily, there are numerous excellent resources for word2vec. [The TensorFlow tutorial Vector representations of words](https://www.tensorflow.org/tutorials/word2vec) is very clear and links to code that is easy to work with. Because TensorFlow has a built in loss function called `tf.nn.nce_loss`, it is especially simple to define these models – one pretty much just sets up an embedding $X$, a context matrix $W$, and a bias $b$, and then feeds them plus a training batch to the loss function.\n",
    "\n",
    "* The excellent [Gensim package](https://radimrehurek.com/gensim/) has an implementation that handles the scalability issues related to word2vec."
   ]
  },
  {
   "cell_type": "markdown",
   "metadata": {
    "slideshow": {
     "slide_type": "slide"
    }
   },
   "source": [
    "## Other methods\n",
    "\n",
    "Learning word representations is one of the most active areas in NLP right now, so I can't hope to offer a comprehensive summary. I'll settle instead for identifying some overall trends and methods:\n",
    "\n",
    "* The LexVec model of [Salle et al. 2016](https://aclanthology.coli.uni-saarland.de/papers/P16-2068/p16-2068) combines the core insight of GloVe (learn vectors that approximate PMI) with the insight from word2vec that we should additionally try to push words that don't appear together farther apart in the VSM. (GloVe simply ignores 0 count cells and so can't do this.)\n",
    "\n",
    "* There is growing awareness that many apparently diverse models can be expressed as matrix factorization methods like SVD/LSA. See especially \n",
    "[Singh and Gordon 2008](http://www.cs.cmu.edu/~ggordon/singh-gordon-unified-factorization-ecml.pdf),\n",
    "[Levy and Golberg 2014](http://papers.nips.cc/paper/5477-neural-word-embedding-as-implicit-matrix-factorization), [Cotterell et al.](https://aclanthology.coli.uni-saarland.de/papers/E17-2028/e17-2028). Also Ryan Cotterell tweeted [this very helpful annotated chart](https://twitter.com/_shrdlu_/status/927278909040873472).\n",
    "\n",
    "* The ELMo embeddings of [Peters et al. 2018](https://arxiv.org/abs/1802.05365) are derived from various combinations of the internal states of deep, bidirectional language models with character-level convolutions. The authors report outstanding results when using these representations as the inputs to a wide range of tasks. For additional details, see http://allennlp.org/elmo.\n",
    "\n",
    "* Subword modeling ([reviewed briefly in the previous notebook](vsm_01_distributional.ipynb#Subword-information)) is increasingly yielding dividends. (It would already be central if most of NLP focused on languages with complex morphology!) Check out the papers at the Subword and Character-Level Models for NLP Workshops: [SCLeM 2017](https://sites.google.com/view/sclem2017/home), [SCLeM 2018](https://sites.google.com/view/sclem2018/home).\n",
    "\n",
    "See [this blog post by Sebastian Ruder](http://ruder.io/word-embeddings-2017/index.html) for even more ideas!"
   ]
  },
  {
   "cell_type": "markdown",
   "metadata": {
    "slideshow": {
     "slide_type": "slide"
    }
   },
   "source": [
    "## Exploratory exercises\n",
    "\n",
    "These are largely meant to give you a feel for the material, but some of them could lead to projects and help you with future work for the course. These are not for credit.\n",
    "\n",
    "1. Try out some pipelines of reweighting, `vsm.lsa` at various dimensions, and `TfAutoencoder` to see which seems best according to your sampling around with `vsm.neighbors` and high-level visualization with `vsm.tsne_viz`. Feel free to use other factorization methods defined in [sklearn.decomposition](http://scikit-learn.org/stable/modules/classes.html#module-sklearn.decomposition) as well.\n",
    "\n",
    "1. What happens if you set `k=1` using `vsm.lsa`? What do the results look like then? What do you think this first (and now only) dimension is capturing?\n",
    "\n",
    "1. Modify `vsm.glove` so that it uses [the AdaGrad optimization method](http://www.jmlr.org/papers/volume12/duchi11a/duchi11a.pdf) as in the original paper. It's fine to use [the authors' implementation](http://nlp.stanford.edu/projects/glove/), [Jon Gauthier's implementation](http://www.foldl.me/2014/glove-python/), or the [mittens Numpy implementation](https://github.com/roamanalytics/mittens/blob/master/mittens/np_mittens.py) as references, but you might enjoy the challenge of doing this with no peeking at their code."
   ]
  }
 ],
 "metadata": {
  "celltoolbar": "Slideshow",
  "kernelspec": {
   "display_name": "Python 3",
   "language": "python",
   "name": "python3"
  },
  "language_info": {
   "codemirror_mode": {
    "name": "ipython",
    "version": 3
   },
   "file_extension": ".py",
   "mimetype": "text/x-python",
   "name": "python",
   "nbconvert_exporter": "python",
   "pygments_lexer": "ipython3",
   "version": "3.6.4"
  },
  "widgets": {
   "state": {},
   "version": "1.1.2"
  }
 },
 "nbformat": 4,
 "nbformat_minor": 2
}
