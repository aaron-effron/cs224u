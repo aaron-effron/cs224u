{
 "cells": [
  {
   "cell_type": "markdown",
   "metadata": {},
   "source": [
    "# Homework 4"
   ]
  },
  {
   "cell_type": "code",
   "execution_count": 2,
   "metadata": {},
   "outputs": [],
   "source": [
    "__author__ = \"Aaron Effron\"\n",
    "__version__ = \"CS224u, Stanford, Spring 2018 term\""
   ]
  },
  {
   "cell_type": "markdown",
   "metadata": {},
   "source": [
    "## Contents\n",
    "\n",
    "0. [Data and background](#Data-and-background)\n",
    "0. [Question 1: Experiment function [4 points]](#Question-1:-Experiment-function-[4-points])\n",
    "0. [Question 2: Memorize the training data [2 points]](#Question-2:-Memorize-the-training-data-[2-points])\n",
    "0. [Question 3: Negation [2 points]](#Question-3:-Negation-[2-points])\n",
    "0. [Question 4: Negation and generalization [2 points]](#Question-4:-Negation-and-generalization-[2-points])\n",
    "0. [Further reading](#Further-reading)"
   ]
  },
  {
   "cell_type": "markdown",
   "metadata": {},
   "source": [
    "The goal of this homework is to begin to assess the extent to which RNNs can learn to simulate __compositional semantics__: the way the meanings of words and phrases combine to form more complex meanings. We're going to do this with simulated data so that we have clear learning targets and so we can track the extent to which the models are truly generalizing in the desired ways."
   ]
  },
  {
   "cell_type": "code",
   "execution_count": 1,
   "metadata": {},
   "outputs": [
    {
     "name": "stderr",
     "output_type": "stream",
     "text": [
      "/Users/aaroneffron/anaconda3/envs/nlu/lib/python3.6/site-packages/h5py/__init__.py:36: FutureWarning: Conversion of the second argument of issubdtype from `float` to `np.floating` is deprecated. In future, it will be treated as `np.float64 == np.dtype(float).type`.\n",
      "  from ._conv import register_converters as _register_converters\n"
     ]
    }
   ],
   "source": [
    "import json\n",
    "import nli\n",
    "import os\n",
    "from sklearn.metrics import classification_report\n",
    "from sklearn.model_selection import train_test_split\n",
    "import tensorflow as tf\n",
    "from tf_rnn_classifier import TfRNNClassifier"
   ]
  },
  {
   "cell_type": "markdown",
   "metadata": {},
   "source": [
    "## Data and background\n",
    "\n",
    "The __base__ dataset is  `nli_simulated_data.json` in `nlidata`. (You'll see below why it's the \"base\" dataset.)"
   ]
  },
  {
   "cell_type": "code",
   "execution_count": 2,
   "metadata": {},
   "outputs": [],
   "source": [
    "data_home = \"nlidata\"\n",
    "\n",
    "base_data_filename = os.path.join(data_home, 'nli_simulated_data.json')"
   ]
  },
  {
   "cell_type": "code",
   "execution_count": 3,
   "metadata": {},
   "outputs": [],
   "source": [
    "def read_base_dataset(base_data_filename):\n",
    "    \"\"\"Read in the dataset and return it in a format that lets us\n",
    "    define it as a set.\n",
    "    \"\"\"\n",
    "    with open(base_data_filename, 'rt') as f:\n",
    "        base = {((tuple(x), tuple(y)), z) for (x, y), z in json.load(f)}\n",
    "    return base"
   ]
  },
  {
   "cell_type": "code",
   "execution_count": 4,
   "metadata": {},
   "outputs": [],
   "source": [
    "base = read_base_dataset(base_data_filename)"
   ]
  },
  {
   "cell_type": "markdown",
   "metadata": {},
   "source": [
    "This is a set of triples, where the first two members are tuples (premise and hypothesis) and the third member is a label:"
   ]
  },
  {
   "cell_type": "code",
   "execution_count": 5,
   "metadata": {},
   "outputs": [
    {
     "data": {
      "text/plain": [
       "[((('j',), ('i',)), 'neutral'),\n",
       " ((('f',), ('d',)), 'subset'),\n",
       " ((('n',), ('j',)), 'subset'),\n",
       " ((('g',), ('g',)), 'equal'),\n",
       " ((('a',), ('i',)), 'superset')]"
      ]
     },
     "execution_count": 5,
     "metadata": {},
     "output_type": "execute_result"
    }
   ],
   "source": [
    "list(base)[: 5]"
   ]
  },
  {
   "cell_type": "markdown",
   "metadata": {},
   "source": [
    "The letters are arbitrary names, but the dataset was generated in a way that ensures logical consistency. For instance, since"
   ]
  },
  {
   "cell_type": "code",
   "execution_count": 6,
   "metadata": {},
   "outputs": [
    {
     "data": {
      "text/plain": [
       "True"
      ]
     },
     "execution_count": 6,
     "metadata": {},
     "output_type": "execute_result"
    }
   ],
   "source": [
    "((('a',), ('c',)), 'superset') in base"
   ]
  },
  {
   "cell_type": "markdown",
   "metadata": {},
   "source": [
    "and"
   ]
  },
  {
   "cell_type": "code",
   "execution_count": 7,
   "metadata": {},
   "outputs": [
    {
     "data": {
      "text/plain": [
       "True"
      ]
     },
     "execution_count": 7,
     "metadata": {},
     "output_type": "execute_result"
    }
   ],
   "source": [
    "((('c',), ('k',)), 'superset') in base"
   ]
  },
  {
   "cell_type": "markdown",
   "metadata": {},
   "source": [
    "we have"
   ]
  },
  {
   "cell_type": "code",
   "execution_count": 8,
   "metadata": {},
   "outputs": [
    {
     "data": {
      "text/plain": [
       "True"
      ]
     },
     "execution_count": 8,
     "metadata": {},
     "output_type": "execute_result"
    }
   ],
   "source": [
    "((('a',), ('k',)), 'superset') in base"
   ]
  },
  {
   "cell_type": "markdown",
   "metadata": {},
   "source": [
    "by the transitivity of `subset`,"
   ]
  },
  {
   "cell_type": "markdown",
   "metadata": {},
   "source": [
    "Here's the full label set:"
   ]
  },
  {
   "cell_type": "code",
   "execution_count": 9,
   "metadata": {},
   "outputs": [],
   "source": [
    "simulated_labels = ['disjoint', 'equal', 'neutral', 'subset', 'superset']"
   ]
  },
  {
   "cell_type": "markdown",
   "metadata": {},
   "source": [
    "These are interpreted as disjoint. In particular, __subset__ is proper subset and __superset__ is proper superset – both exclude the case where the two arguments are __equal__."
   ]
  },
  {
   "cell_type": "markdown",
   "metadata": {},
   "source": [
    "Here is the full vocabulary, which you'll need in order to create embedding spaces:"
   ]
  },
  {
   "cell_type": "code",
   "execution_count": 10,
   "metadata": {},
   "outputs": [
    {
     "data": {
      "text/plain": [
       "['not',\n",
       " '$UNK',\n",
       " 'a',\n",
       " 'b',\n",
       " 'c',\n",
       " 'd',\n",
       " 'e',\n",
       " 'f',\n",
       " 'g',\n",
       " 'h',\n",
       " 'i',\n",
       " 'j',\n",
       " 'k',\n",
       " 'l',\n",
       " 'm',\n",
       " 'n']"
      ]
     },
     "execution_count": 10,
     "metadata": {},
     "output_type": "execute_result"
    }
   ],
   "source": [
    "sim_vocab = [\"not\", \"$UNK\"] + sorted(set([p[0] for x,y in base for p in x]))\n",
    "\n",
    "sim_vocab"
   ]
  },
  {
   "cell_type": "markdown",
   "metadata": {},
   "source": [
    "## Question 1: Experiment function [4 points]\n",
    "\n",
    "Complete the function `sim_experiment` so that it trains a `TfRNNClassifier` on a dataset in the format of `base`, prints out a `classification_report` and returns the trained model. Make sure all of the keyword arguments to `sim_experiment` are respected!\n",
    "\n",
    "__To submit:__\n",
    "\n",
    "* Your completed version of `sim_experiment` and any supporting functions it uses."
   ]
  },
  {
   "cell_type": "code",
   "execution_count": 11,
   "metadata": {},
   "outputs": [],
   "source": [
    "def sim_experiment(train_dataset, \n",
    "        test_dataset, \n",
    "        embed_dim=50, \n",
    "        hidden_dim=50, \n",
    "        eta=0.01, \n",
    "        max_iter=10, \n",
    "        cell_class=tf.nn.rnn_cell.LSTMCell, \n",
    "        hidden_activation=tf.nn.tanh):    \n",
    "    # To be completed: \n",
    "    \n",
    "    #print\n",
    "    \n",
    "    # Process `train_dataset` into an (X, y) pair\n",
    "    # that is suitable for the `fit` method of \n",
    "    # `TfRNNClassifier`.   \n",
    "    \n",
    "    X_rnn_train = [[ex[0][0][0], ex[0][1][0]] for ex in train_dataset]\n",
    "    y_rnn_train = [str(ex[1]) for ex in train_dataset]\n",
    "    \n",
    "    #X_rnn_train = [ex for ex in train_dataset]\n",
    "    X_rnn_test = [[ex[0][0][0], ex[0][1][0]] for ex in test_dataset]\n",
    "    \n",
    "    #     X_rnn_test = [str(ex[0]) for ex in test_dataset]\n",
    "    y_rnn_test = [str(ex[1]) for ex in test_dataset]\n",
    "    \n",
    "    \n",
    "    vocab = sim_vocab\n",
    "    \n",
    "    tf_rnn = TfRNNClassifier(\n",
    "        vocab,\n",
    "        embed_dim=embed_dim,\n",
    "        hidden_dim=hidden_dim,\n",
    "        eta=eta,\n",
    "        max_iter=max_iter,\n",
    "        cell_class=cell_class,\n",
    "        hidden_activation=hidden_activation)\n",
    "    \n",
    "    # Train a `TfRNNClassifier` on `train_dataset`,\n",
    "    # using all the keyword arguments given above.\n",
    "    _ = tf_rnn.fit(X_rnn_train, y_rnn_train)\n",
    "    \n",
    "    # Test the trained model on `test_dataset`;\n",
    "    # assumes `test_dataset` is processed for use\n",
    "    # with `predict` and the `classification_report`\n",
    "    # below.\n",
    "    \n",
    "    tf_rnn_test_predictions = tf_rnn.predict(X_rnn_test)\n",
    "    print(classification_report(y_rnn_test, tf_rnn_test_predictions))\n",
    "    \n",
    "    return tf_rnn\n"
   ]
  },
  {
   "cell_type": "code",
   "execution_count": 12,
   "metadata": {},
   "outputs": [
    {
     "name": "stdout",
     "output_type": "stream",
     "text": [
      "[['j', 'i'], ['f', 'd'], ['n', 'j'], ['g', 'g'], ['a', 'i'], ['f', 'c'], ['m', 'c'], ['d', 'n'], ['l', 'i'], ['e', 'd'], ['k', 'l'], ['n', 'k'], ['d', 'a'], ['b', 'm'], ['g', 'j'], ['i', 'f'], ['m', 'n'], ['e', 'm'], ['l', 'm'], ['j', 'e'], ['l', 'c'], ['g', 'h'], ['g', 'n'], ['a', 'k'], ['i', 'd'], ['l', 'a'], ['g', 'i'], ['c', 'b'], ['c', 'a'], ['l', 'h'], ['b', 'k'], ['c', 'h'], ['k', 'a'], ['c', 'j'], ['m', 'l'], ['e', 'e'], ['d', 'c'], ['i', 'l'], ['c', 'e'], ['d', 'd'], ['j', 'n'], ['b', 'c'], ['l', 'n'], ['c', 'f'], ['n', 'h'], ['f', 'j'], ['d', 'g'], ['f', 'h'], ['i', 'm'], ['f', 'k'], ['f', 'm'], ['g', 'm'], ['b', 'f'], ['d', 'k'], ['m', 'g'], ['e', 'f'], ['a', 'g'], ['h', 'n'], ['m', 'f'], ['j', 'a'], ['n', 'l'], ['d', 'i'], ['k', 'e'], ['g', 'l'], ['j', 'g'], ['j', 'l'], ['h', 'j'], ['e', 'n'], ['a', 'd'], ['b', 'd'], ['d', 'l'], ['g', 'k'], ['h', 'i'], ['j', 'm'], ['i', 'j'], ['i', 'a'], ['g', 'd'], ['j', 'h'], ['b', 'g'], ['n', 'e'], ['f', 'g'], ['h', 'f'], ['e', 'a'], ['a', 'f'], ['g', 'e'], ['h', 'g'], ['n', 'g'], ['k', 'i'], ['h', 'h'], ['j', 'c'], ['l', 'e'], ['n', 'n'], ['i', 'e'], ['g', 'c'], ['k', 'g'], ['l', 'f'], ['k', 'n'], ['l', 'k'], ['m', 'j'], ['a', 'c'], ['d', 'b'], ['j', 'b'], ['b', 'e'], ['m', 'h'], ['l', 'g'], ['h', 'd'], ['g', 'a'], ['i', 'h'], ['h', 'e'], ['h', 'm'], ['f', 'f'], ['a', 'l'], ['d', 'e'], ['c', 'k'], ['m', 'k'], ['k', 'm'], ['f', 'i'], ['l', 'j'], ['j', 'd'], ['c', 'l'], ['e', 'c'], ['h', 'b'], ['h', 'a'], ['k', 'c'], ['a', 'n'], ['b', 'n'], ['e', 'g'], ['c', 'm'], ['e', 'h'], ['c', 'd'], ['a', 'e'], ['f', 'a'], ['i', 'k'], ['c', 'g'], ['k', 'b'], ['h', 'k'], ['l', 'b'], ['k', 'k'], ['j', 'f'], ['n', 'b'], ['n', 'm'], ['m', 'a'], ['f', 'l'], ['d', 'f'], ['k', 'f'], ['m', 'm'], ['a', 'a'], ['c', 'i'], ['f', 'n'], ['n', 'f'], ['b', 'j'], ['g', 'f'], ['n', 'a'], ['e', 'j'], ['n', 'i'], ['c', 'n'], ['m', 'e'], ['e', 'b'], ['j', 'j'], ['e', 'i'], ['d', 'h'], ['k', 'j'], ['c', 'c'], ['m', 'i'], ['n', 'd'], ['i', 'g'], ['m', 'd'], ['d', 'm'], ['e', 'k'], ['h', 'c'], ['g', 'b'], ['f', 'e'], ['m', 'b'], ['e', 'l'], ['k', 'h'], ['i', 'b'], ['f', 'b'], ['l', 'd'], ['l', 'l'], ['b', 'i'], ['h', 'l'], ['b', 'h'], ['i', 'c'], ['a', 'm'], ['i', 'i'], ['a', 'b'], ['n', 'c'], ['b', 'l'], ['j', 'k'], ['b', 'b'], ['b', 'a'], ['i', 'n'], ['k', 'd'], ['d', 'j'], ['a', 'h'], ['a', 'j']]\n"
     ]
    },
    {
     "name": "stderr",
     "output_type": "stream",
     "text": [
      "Iteration 10: loss: 1.608284831047058"
     ]
    },
    {
     "name": "stdout",
     "output_type": "stream",
     "text": [
      "             precision    recall  f1-score   support\n",
      "\n",
      "   disjoint       0.31      0.40      0.35        50\n",
      "      equal       0.09      0.21      0.12        14\n",
      "    neutral       0.32      0.10      0.15        60\n",
      "     subset       0.20      0.14      0.16        36\n",
      "   superset       0.23      0.33      0.27        36\n",
      "\n",
      "avg / total       0.26      0.23      0.22       196\n",
      "\n"
     ]
    },
    {
     "data": {
      "text/plain": [
       "<tf_rnn_classifier.TfRNNClassifier at 0x1a1b32f828>"
      ]
     },
     "execution_count": 12,
     "metadata": {},
     "output_type": "execute_result"
    }
   ],
   "source": [
    "train_dataset = test_dataset = base\n",
    "sim_experiment(train_dataset, test_dataset)\n",
    "#         ew = 2,\n",
    "#         ewa = 3,\n",
    "#         embed_dim=50, \n",
    "#         hidden_dim=50, \n",
    "#         eta=0.01, \n",
    "#         max_iter=10, \n",
    "#         cell_class=tf.nn.rnn_cell.LSTMCell, \n",
    "#         hidden_activation=tf.nn.tanh)"
   ]
  },
  {
   "cell_type": "markdown",
   "metadata": {},
   "source": [
    "## Question 2: Memorize the training data [2 points]\n",
    "\n",
    "Experiment with `sim_experiment` until you've found a setting where `sim_experiment(base, base)` yields perfect performance on all classes. (If it's a little off, that's okay.)\n",
    "\n",
    "__To submit__: \n",
    "\n",
    "* Your function call to `sim_experiment` showing the values of all the parameters.\n",
    "\n",
    "__Tips__: Definitely explore different values of `cell_class` and `hidden_activation`.  You might also pick high `embed_dim` and `hidden_dim` to ensure that you have sufficient representational power. These settings in turn demand a large number of iterations.\n",
    "\n",
    "__Note__: There is value in finding the smallest, or most conservative, models that will achieve this memorization, but you needn't engage in such search. Go big if you want to get this done fast!"
   ]
  },
  {
   "cell_type": "code",
   "execution_count": 13,
   "metadata": {},
   "outputs": [
    {
     "name": "stdout",
     "output_type": "stream",
     "text": [
      "[['j', 'i'], ['f', 'd'], ['n', 'j'], ['g', 'g'], ['a', 'i'], ['f', 'c'], ['m', 'c'], ['d', 'n'], ['l', 'i'], ['e', 'd'], ['k', 'l'], ['n', 'k'], ['d', 'a'], ['b', 'm'], ['g', 'j'], ['i', 'f'], ['m', 'n'], ['e', 'm'], ['l', 'm'], ['j', 'e'], ['l', 'c'], ['g', 'h'], ['g', 'n'], ['a', 'k'], ['i', 'd'], ['l', 'a'], ['g', 'i'], ['c', 'b'], ['c', 'a'], ['l', 'h'], ['b', 'k'], ['c', 'h'], ['k', 'a'], ['c', 'j'], ['m', 'l'], ['e', 'e'], ['d', 'c'], ['i', 'l'], ['c', 'e'], ['d', 'd'], ['j', 'n'], ['b', 'c'], ['l', 'n'], ['c', 'f'], ['n', 'h'], ['f', 'j'], ['d', 'g'], ['f', 'h'], ['i', 'm'], ['f', 'k'], ['f', 'm'], ['g', 'm'], ['b', 'f'], ['d', 'k'], ['m', 'g'], ['e', 'f'], ['a', 'g'], ['h', 'n'], ['m', 'f'], ['j', 'a'], ['n', 'l'], ['d', 'i'], ['k', 'e'], ['g', 'l'], ['j', 'g'], ['j', 'l'], ['h', 'j'], ['e', 'n'], ['a', 'd'], ['b', 'd'], ['d', 'l'], ['g', 'k'], ['h', 'i'], ['j', 'm'], ['i', 'j'], ['i', 'a'], ['g', 'd'], ['j', 'h'], ['b', 'g'], ['n', 'e'], ['f', 'g'], ['h', 'f'], ['e', 'a'], ['a', 'f'], ['g', 'e'], ['h', 'g'], ['n', 'g'], ['k', 'i'], ['h', 'h'], ['j', 'c'], ['l', 'e'], ['n', 'n'], ['i', 'e'], ['g', 'c'], ['k', 'g'], ['l', 'f'], ['k', 'n'], ['l', 'k'], ['m', 'j'], ['a', 'c'], ['d', 'b'], ['j', 'b'], ['b', 'e'], ['m', 'h'], ['l', 'g'], ['h', 'd'], ['g', 'a'], ['i', 'h'], ['h', 'e'], ['h', 'm'], ['f', 'f'], ['a', 'l'], ['d', 'e'], ['c', 'k'], ['m', 'k'], ['k', 'm'], ['f', 'i'], ['l', 'j'], ['j', 'd'], ['c', 'l'], ['e', 'c'], ['h', 'b'], ['h', 'a'], ['k', 'c'], ['a', 'n'], ['b', 'n'], ['e', 'g'], ['c', 'm'], ['e', 'h'], ['c', 'd'], ['a', 'e'], ['f', 'a'], ['i', 'k'], ['c', 'g'], ['k', 'b'], ['h', 'k'], ['l', 'b'], ['k', 'k'], ['j', 'f'], ['n', 'b'], ['n', 'm'], ['m', 'a'], ['f', 'l'], ['d', 'f'], ['k', 'f'], ['m', 'm'], ['a', 'a'], ['c', 'i'], ['f', 'n'], ['n', 'f'], ['b', 'j'], ['g', 'f'], ['n', 'a'], ['e', 'j'], ['n', 'i'], ['c', 'n'], ['m', 'e'], ['e', 'b'], ['j', 'j'], ['e', 'i'], ['d', 'h'], ['k', 'j'], ['c', 'c'], ['m', 'i'], ['n', 'd'], ['i', 'g'], ['m', 'd'], ['d', 'm'], ['e', 'k'], ['h', 'c'], ['g', 'b'], ['f', 'e'], ['m', 'b'], ['e', 'l'], ['k', 'h'], ['i', 'b'], ['f', 'b'], ['l', 'd'], ['l', 'l'], ['b', 'i'], ['h', 'l'], ['b', 'h'], ['i', 'c'], ['a', 'm'], ['i', 'i'], ['a', 'b'], ['n', 'c'], ['b', 'l'], ['j', 'k'], ['b', 'b'], ['b', 'a'], ['i', 'n'], ['k', 'd'], ['d', 'j'], ['a', 'h'], ['a', 'j']]\n"
     ]
    },
    {
     "name": "stderr",
     "output_type": "stream",
     "text": [
      "Iteration 1000: loss: 0.005629217252135277"
     ]
    },
    {
     "name": "stdout",
     "output_type": "stream",
     "text": [
      "             precision    recall  f1-score   support\n",
      "\n",
      "   disjoint       1.00      1.00      1.00        50\n",
      "      equal       1.00      1.00      1.00        14\n",
      "    neutral       1.00      1.00      1.00        60\n",
      "     subset       1.00      1.00      1.00        36\n",
      "   superset       1.00      1.00      1.00        36\n",
      "\n",
      "avg / total       1.00      1.00      1.00       196\n",
      "\n"
     ]
    },
    {
     "data": {
      "text/plain": [
       "<tf_rnn_classifier.TfRNNClassifier at 0x1a1b852390>"
      ]
     },
     "execution_count": 13,
     "metadata": {},
     "output_type": "execute_result"
    }
   ],
   "source": [
    "sim_experiment(base,\n",
    "               base, \n",
    "               embed_dim = 200, \n",
    "               hidden_dim=200, \n",
    "               max_iter=1000,\n",
    "               eta = .4,\n",
    "               hidden_activation=tf.nn.relu)"
   ]
  },
  {
   "cell_type": "markdown",
   "metadata": {},
   "source": [
    "## Question 3: Negation [2 points]\n",
    "\n",
    "Now that we have some indication that the model works, we want to start making the data more complex. To do this, we'll simply negate one or both arguments and assign them the relation determined by their original label and the logic of negation. For instance, the training instance\n",
    "\n",
    "```\n",
    "((('p',), ('q',)), 'subset')\n",
    "```\n",
    "\n",
    "will become five distinct ones:\n",
    "\n",
    "```\n",
    "((('not', 'p'), ('not', 'p')), 'equal')\n",
    "((('not', 'p'), ('not', 'q')), 'superset')\n",
    "((('not', 'p'), ('q',)), 'neutral')\n",
    "((('not', 'q'), ('not', 'q')), 'equal')\n",
    "((('p',), ('not', 'q')), 'disjoint')\n",
    "```\n",
    "\n",
    "The full logic of this is a somewhat liberal interpretation of the theory of negation developed by [MacCartney and Manning 2007](http://nlp.stanford.edu/~wcmac/papers/natlog-wtep07.pdf):\n",
    "\n",
    "\n",
    "$$\\begin{array}{c c}\n",
    "\\hline \n",
    "           & \\text{not-}p, \\text{not-}q & p, \\text{not-}q & \\text{not-}p, q \\\\\n",
    "\\hline \n",
    "p \\text{ disjoint } q & \\text{neutral}  & \\text{subset}   & \\text{superset} \\\\\n",
    "p \\text{ equal } q    & \\text{equal}    & \\text{disjoint} & \\text{disjoint} \\\\\n",
    "p \\text{ neutral } q  & \\text{neutral}  & \\text{neutral}  & \\text{neutral} \\\\\n",
    "p \\text{ subset } q   & \\text{superset} & \\text{disjoint} & \\text{neutral} \\\\\n",
    "p \\text{ superset } q & \\text{subset}   & \\text{neutral}  & \\text{disjoint} \\\\\n",
    "\\hline\n",
    "\\end{array}$$ \n",
    "\n",
    "where we also add all instances of $p \\text{ equal } p$.\n",
    "\n",
    "If you don't want to worry about the details, that's okay – you can treat `negate_dataset` as a black-box. Just think of it as implementing the theory of negation."
   ]
  },
  {
   "cell_type": "code",
   "execution_count": 15,
   "metadata": {},
   "outputs": [],
   "source": [
    "def negate_dataset(dataset):\n",
    "    \"\"\"Map `dataset` to a new dataset that has been thoroughly negated.\n",
    "    \n",
    "    Parameters\n",
    "    ----------\n",
    "    dataset : set of pairs ((p, h), label)\n",
    "        Where `p` and `h` are tuples of str.\n",
    "    \n",
    "    Returns\n",
    "    -------\n",
    "    set\n",
    "        Same format as `dataset`, and disjoint from it.\n",
    "        \n",
    "    \"\"\"\n",
    "    new_dataset = set()\n",
    "    for (p, q), rel in dataset:        \n",
    "        neg_p = tuple([\"not\"] + list(p))\n",
    "        neg_q = tuple([\"not\"] + list(q))\n",
    "        new_dataset.add(((neg_p, neg_p), 'equal'))\n",
    "        new_dataset.add(((neg_q, neg_q), 'equal'))\n",
    "        combos = [(neg_p, neg_q), (p, neg_q), (neg_p, q)]\n",
    "        if rel == \"disjoint\":\n",
    "            new_rels = (\"neutral\", \"subset\", \"superset\")\n",
    "        elif rel == \"equal\":\n",
    "            new_rels = (\"equal\", \"disjoint\", \"disjoint\") \n",
    "        elif rel == \"neutral\":\n",
    "            new_rels = (\"neutral\", \"neutral\", \"neutral\")\n",
    "        elif rel == \"subset\":\n",
    "            new_rels = (\"superset\", \"disjoint\", \"neutral\")\n",
    "        elif rel == \"superset\":\n",
    "            new_rels = (\"subset\", \"neutral\", \"disjoint\") \n",
    "        new_dataset |= set(zip(combos, new_rels))\n",
    "    return new_dataset"
   ]
  },
  {
   "cell_type": "markdown",
   "metadata": {},
   "source": [
    "Using `negate_dataset`, we can map the `base` dataset to a singly negated one:"
   ]
  },
  {
   "cell_type": "code",
   "execution_count": 16,
   "metadata": {},
   "outputs": [],
   "source": [
    "neg1 = negate_dataset(base)"
   ]
  },
  {
   "cell_type": "code",
   "execution_count": 17,
   "metadata": {},
   "outputs": [
    {
     "data": {
      "text/plain": [
       "[((('not', 'a'), ('not', 'k')), 'subset'),\n",
       " ((('c',), ('not', 'a')), 'disjoint'),\n",
       " ((('not', 'n'), ('l',)), 'neutral'),\n",
       " ((('k',), ('not', 'j')), 'disjoint'),\n",
       " ((('not', 'd'), ('b',)), 'neutral')]"
      ]
     },
     "execution_count": 17,
     "metadata": {},
     "output_type": "execute_result"
    }
   ],
   "source": [
    "list(neg1)[: 5]"
   ]
  },
  {
   "cell_type": "code",
   "execution_count": 18,
   "metadata": {},
   "outputs": [],
   "source": [
    "from sklearn.model_selection import train_test_split\n",
    "\n",
    "dataset = base.union(neg1, negate_dataset(neg1))\n",
    "\n",
    "train, test = train_test_split(list(dataset), test_size=0.3, random_state=42)"
   ]
  },
  {
   "cell_type": "code",
   "execution_count": 19,
   "metadata": {},
   "outputs": [
    {
     "name": "stdout",
     "output_type": "stream",
     "text": [
      "[['not', 'not'], ['not', 'not'], ['e', 'not'], ['n', 'h'], ['not', 'not'], ['not', 'not'], ['j', 'g'], ['not', 'c'], ['n', 'c'], ['not', 'not'], ['e', 'm'], ['not', 'not'], ['f', 'not'], ['not', 'not'], ['not', 'not'], ['not', 'm'], ['h', 'not'], ['not', 'a'], ['not', 'not'], ['not', 'not'], ['not', 'not'], ['not', 'n'], ['not', 'not'], ['l', 'm'], ['not', 'not'], ['not', 'm'], ['not', 'not'], ['not', 'not'], ['not', 'b'], ['h', 'g'], ['not', 'e'], ['b', 'not'], ['d', 'l'], ['not', 'not'], ['not', 'not'], ['l', 'not'], ['not', 'not'], ['not', 'not'], ['not', 'i'], ['d', 'e'], ['not', 'not'], ['not', 'not'], ['not', 'not'], ['g', 'not'], ['not', 'not'], ['not', 'not'], ['not', 'not'], ['d', 'not'], ['m', 'not'], ['not', 'not'], ['not', 'not'], ['not', 'not'], ['not', 'not'], ['not', 'k'], ['not', 'not'], ['not', 'not'], ['not', 'not'], ['not', 'c'], ['not', 'not'], ['not', 'e'], ['not', 'not'], ['not', 'not'], ['not', 'not'], ['not', 'f'], ['not', 'not'], ['m', 'not'], ['not', 'not'], ['not', 'not'], ['not', 'h'], ['not', 'not'], ['n', 'not'], ['not', 'not'], ['not', 'not'], ['not', 'not'], ['not', 'not'], ['m', 'not'], ['not', 'not'], ['not', 'g'], ['h', 'not'], ['l', 'not'], ['not', 'not'], ['g', 'g'], ['not', 'not'], ['not', 'not'], ['n', 'b'], ['not', 'c'], ['not', 'not'], ['not', 'not'], ['not', 'not'], ['not', 'not'], ['not', 'd'], ['not', 'a'], ['not', 'not'], ['a', 'd'], ['not', 'l'], ['not', 'not'], ['not', 'not'], ['not', 'm'], ['n', 'not'], ['not', 'not'], ['not', 'not'], ['not', 'not'], ['k', 'not'], ['n', 'not'], ['not', 'not'], ['not', 'not'], ['m', 'not'], ['i', 'not'], ['not', 'not'], ['not', 'not'], ['e', 'not'], ['not', 'f'], ['not', 'not'], ['not', 'not'], ['not', 'not'], ['d', 'i'], ['not', 'not'], ['not', 'not'], ['d', 'n'], ['not', 'not'], ['not', 'not'], ['not', 'not'], ['k', 'not'], ['not', 'not'], ['not', 'f'], ['not', 'not'], ['a', 'not'], ['not', 'l'], ['a', 'n'], ['not', 'not'], ['not', 'not'], ['not', 'h'], ['not', 'not'], ['not', 'c'], ['i', 'c'], ['i', 'i'], ['not', 'i'], ['not', 'not'], ['not', 'not'], ['not', 'not'], ['g', 'not'], ['not', 'g'], ['not', 'not'], ['not', 'k'], ['not', 'not'], ['not', 'not'], ['not', 'not'], ['k', 'd'], ['not', 'e'], ['m', 'not'], ['not', 'f'], ['not', 'k'], ['not', 'not'], ['not', 'c'], ['not', 'n'], ['not', 'not'], ['not', 'not'], ['not', 'b'], ['c', 'not'], ['not', 'e'], ['not', 'not'], ['not', 'not'], ['not', 'not'], ['not', 'not'], ['not', 'j'], ['not', 'a'], ['not', 'not'], ['l', 'l'], ['not', 'not'], ['j', 'not'], ['not', 'not'], ['not', 'c'], ['not', 'l'], ['not', 'not'], ['not', 'not'], ['not', 'not'], ['not', 'not'], ['not', 'not'], ['not', 'not'], ['n', 'not'], ['not', 'n'], ['not', 'not'], ['e', 'n'], ['not', 'not'], ['not', 'not'], ['not', 'e'], ['not', 'not'], ['c', 'not'], ['not', 'not'], ['b', 'not'], ['not', 'not'], ['c', 'not'], ['k', 'not'], ['not', 'not'], ['not', 'not'], ['not', 'g'], ['not', 'not'], ['not', 'n'], ['not', 'not'], ['not', 'not'], ['not', 'not'], ['not', 'not'], ['not', 'h'], ['c', 'not'], ['i', 'not'], ['not', 'not'], ['f', 'not'], ['a', 'not'], ['not', 'not'], ['not', 'not'], ['not', 'not'], ['k', 'not'], ['b', 'not'], ['j', 'not'], ['not', 'not'], ['not', 'not'], ['not', 'not'], ['not', 'not'], ['not', 'not'], ['not', 'a'], ['not', 'm'], ['not', 'd'], ['not', 'not'], ['not', 'not'], ['not', 'not'], ['a', 'm'], ['e', 'l'], ['not', 'i'], ['d', 'not'], ['e', 'not'], ['not', 'not'], ['not', 'not'], ['not', 'not'], ['not', 'not'], ['not', 'k'], ['not', 'n'], ['not', 'not'], ['not', 'not'], ['f', 'not'], ['not', 'c'], ['not', 'a'], ['not', 'not'], ['not', 'n'], ['not', 'm'], ['h', 'f'], ['not', 'd'], ['i', 'not'], ['not', 'not'], ['not', 'not'], ['not', 'not'], ['not', 'a'], ['not', 'not'], ['not', 'not'], ['not', 'not'], ['not', 'not'], ['not', 'not'], ['not', 'not'], ['f', 'i'], ['not', 'not'], ['not', 'h'], ['not', 'not'], ['g', 'not'], ['c', 'not'], ['not', 'd'], ['d', 'not'], ['a', 'a'], ['not', 'not'], ['not', 'not'], ['b', 'e'], ['m', 'not'], ['b', 'not'], ['not', 'not'], ['not', 'l'], ['not', 'not'], ['not', 'not'], ['not', 'not'], ['not', 'not'], ['j', 'not'], ['d', 'f'], ['not', 'e'], ['g', 'not'], ['g', 'not'], ['h', 'not'], ['b', 'not'], ['not', 'not'], ['i', 'not'], ['not', 'not'], ['not', 'not'], ['not', 'e'], ['not', 'not'], ['l', 'not'], ['not', 'not'], ['not', 'not'], ['not', 'not'], ['not', 'not'], ['not', 'not'], ['not', 'd'], ['not', 'not'], ['not', 'not'], ['not', 'not'], ['not', 'not'], ['not', 'not'], ['not', 'not'], ['a', 'not'], ['not', 'not'], ['not', 'not'], ['l', 'not'], ['g', 'b'], ['not', 'not'], ['not', 'not'], ['not', 'c'], ['not', 'f'], ['not', 'not'], ['not', 'not'], ['not', 'not'], ['not', 'not'], ['l', 'not'], ['not', 'j'], ['not', 'l'], ['not', 'not'], ['not', 'not'], ['h', 'not'], ['not', 'not'], ['not', 'not'], ['not', 'g'], ['b', 'not'], ['not', 'not'], ['h', 'i'], ['f', 'not'], ['not', 'b'], ['m', 'not'], ['not', 'not'], ['not', 'not'], ['c', 'not'], ['not', 'not'], ['i', 'not'], ['c', 'not'], ['j', 'not'], ['not', 'not'], ['j', 'not'], ['not', 'not'], ['d', 'not'], ['not', 'not'], ['l', 'not'], ['not', 'g'], ['k', 'h'], ['not', 'not'], ['not', 'g'], ['n', 'f'], ['k', 'e'], ['not', 'not'], ['c', 'l'], ['not', 'not'], ['not', 'not'], ['not', 'not'], ['n', 'd'], ['not', 'not'], ['j', 'not'], ['a', 'not'], ['not', 'b'], ['not', 'not'], ['not', 'not'], ['not', 'not'], ['not', 'k'], ['d', 'not'], ['f', 'not'], ['k', 'l'], ['not', 'not'], ['not', 'not'], ['not', 'not'], ['not', 'not'], ['not', 'not'], ['not', 'not'], ['not', 'not'], ['not', 'not'], ['c', 'not'], ['not', 'not'], ['not', 'not'], ['k', 'not'], ['not', 'not'], ['not', 'not'], ['not', 'c'], ['not', 'not'], ['not', 'not'], ['not', 'not'], ['not', 'not'], ['not', 'not'], ['not', 'm'], ['not', 'not'], ['j', 'not'], ['not', 'j'], ['not', 'not'], ['not', 'm'], ['not', 'a'], ['not', 'e'], ['not', 'not'], ['not', 'not'], ['not', 'not'], ['not', 'not'], ['not', 'not'], ['f', 'k'], ['l', 'not'], ['not', 'not'], ['not', 'not'], ['h', 'k'], ['not', 'not'], ['not', 'not'], ['not', 'not'], ['not', 'not'], ['not', 'not'], ['not', 'not'], ['not', 'not'], ['not', 'h'], ['not', 'j'], ['not', 'd'], ['not', 'e'], ['not', 'l'], ['not', 'not'], ['d', 'j'], ['not', 'not'], ['not', 'not'], ['not', 'not'], ['not', 'not'], ['i', 'not'], ['e', 'not'], ['not', 'not'], ['not', 'not'], ['not', 'a'], ['not', 'not'], ['not', 'not'], ['not', 'not'], ['not', 'n'], ['not', 'not'], ['not', 'c'], ['a', 'not'], ['l', 'e'], ['not', 'not'], ['not', 'not'], ['not', 'not'], ['not', 'm'], ['a', 'i'], ['not', 'not'], ['not', 'not'], ['b', 'l'], ['not', 'g'], ['not', 'not'], ['not', 'not'], ['not', 'i'], ['not', 'k'], ['g', 'not'], ['not', 'not'], ['c', 'not'], ['not', 'not'], ['not', 'not'], ['not', 'j'], ['m', 'not'], ['not', 'not'], ['b', 'not'], ['f', 'not'], ['not', 'not'], ['b', 'd'], ['not', 'not'], ['not', 'not'], ['n', 'i'], ['l', 'not'], ['not', 'not'], ['not', 'not'], ['n', 'not'], ['not', 'not'], ['not', 'not'], ['not', 'not'], ['not', 'not'], ['not', 'not'], ['not', 'i'], ['l', 'g'], ['not', 'not'], ['not', 'not'], ['m', 'not'], ['not', 'not'], ['d', 'b'], ['l', 'b'], ['n', 'not'], ['not', 'not'], ['not', 'not'], ['not', 'not'], ['e', 'not'], ['not', 'i'], ['not', 'not'], ['m', 'not'], ['h', 'not'], ['not', 'not'], ['i', 'not'], ['not', 'not'], ['a', 'not'], ['not', 'not'], ['f', 'not'], ['not', 'not'], ['c', 'a'], ['not', 'not'], ['not', 'not'], ['not', 'e'], ['not', 'not'], ['i', 'not'], ['e', 'not'], ['d', 'not'], ['not', 'not'], ['b', 'not'], ['not', 'not'], ['not', 'not'], ['a', 'not'], ['not', 'not'], ['not', 'not'], ['j', 'c'], ['not', 'b'], ['not', 'not'], ['not', 'm'], ['not', 'i'], ['not', 'not'], ['not', 'd'], ['not', 'e'], ['not', 'not'], ['not', 'not'], ['i', 'not'], ['not', 'not'], ['not', 'k'], ['not', 'not'], ['not', 'not'], ['not', 'n'], ['not', 'not'], ['not', 'not'], ['k', 'not'], ['not', 'not'], ['d', 'not'], ['not', 'not'], ['n', 'not'], ['not', 'c'], ['k', 'not'], ['not', 'not'], ['not', 'not'], ['m', 'not'], ['not', 'not'], ['a', 'c'], ['not', 'not'], ['not', 'not'], ['i', 'not'], ['j', 'l'], ['not', 'not'], ['g', 'not'], ['not', 'not'], ['not', 'not'], ['f', 'f'], ['not', 'not'], ['not', 'not'], ['g', 'not'], ['b', 'not'], ['not', 'not'], ['e', 'a'], ['not', 'f'], ['not', 'b'], ['g', 'i'], ['not', 'not'], ['n', 'l'], ['not', 'not'], ['not', 'not'], ['not', 'not'], ['h', 'not'], ['g', 'not'], ['a', 'not'], ['m', 'not'], ['not', 'd'], ['i', 'g'], ['not', 'i'], ['not', 'h'], ['not', 'not'], ['not', 'g'], ['not', 'not'], ['not', 'j'], ['g', 'not'], ['not', 'l'], ['not', 'not'], ['not', 'not'], ['h', 'm'], ['not', 'not'], ['l', 'not'], ['not', 'not'], ['not', 'c'], ['f', 'd'], ['not', 'm'], ['not', 'b'], ['not', 'not'], ['e', 'not'], ['not', 'b'], ['not', 'k'], ['not', 'not'], ['not', 'not'], ['not', 'not'], ['d', 'not'], ['b', 'c'], ['not', 'not'], ['not', 'b'], ['j', 'not'], ['d', 'not'], ['not', 'f'], ['not', 'd'], ['not', 'not'], ['not', 'not'], ['not', 'not'], ['not', 'not'], ['not', 'not'], ['not', 'not'], ['not', 'not'], ['not', 'd'], ['a', 'not'], ['not', 'not'], ['c', 'e'], ['not', 'j'], ['l', 'not'], ['not', 'not'], ['i', 'not'], ['not', 'not'], ['not', 'not'], ['f', 'not'], ['b', 'i'], ['not', 'k'], ['n', 'n'], ['not', 'not'], ['not', 'not'], ['not', 'e'], ['k', 'n'], ['not', 'i'], ['g', 'not'], ['f', 'not'], ['not', 'j'], ['not', 'not'], ['not', 'not'], ['not', 'not'], ['i', 'n'], ['not', 'not'], ['l', 'not'], ['not', 'l'], ['h', 'j'], ['not', 'not'], ['not', 'not'], ['n', 'm'], ['not', 'not'], ['not', 'e'], ['n', 'not'], ['not', 'not'], ['g', 'k'], ['i', 'not'], ['not', 'not'], ['a', 'e'], ['not', 'not'], ['c', 'c'], ['not', 'not'], ['not', 'not'], ['not', 'not'], ['c', 'not'], ['not', 'not'], ['not', 'not'], ['a', 'not'], ['not', 'not'], ['not', 'not'], ['not', 'not'], ['not', 'not'], ['not', 'not'], ['not', 'not'], ['not', 'j'], ['not', 'd'], ['i', 'not'], ['not', 'not'], ['not', 'not'], ['not', 'not'], ['not', 'f'], ['not', 'not'], ['not', 'not'], ['not', 'not'], ['not', 'not'], ['j', 'n'], ['not', 'not'], ['not', 'not'], ['not', 'not'], ['f', 'h'], ['not', 'not'], ['not', 'not'], ['k', 'not'], ['not', 'not'], ['not', 'not'], ['not', 'j'], ['not', 'k'], ['n', 'not'], ['not', 'not'], ['not', 'f'], ['not', 'not'], ['not', 'not'], ['k', 'not'], ['not', 'not'], ['not', 'not'], ['not', 'not'], ['not', 'j'], ['not', 'not'], ['not', 'not'], ['not', 'not'], ['j', 'h'], ['l', 'd'], ['not', 'not'], ['not', 'not'], ['c', 'not'], ['not', 'not'], ['j', 'not'], ['not', 'not'], ['not', 'not'], ['m', 'b'], ['not', 'm'], ['not', 'not'], ['not', 'i'], ['not', 'not'], ['f', 'm'], ['k', 'not'], ['not', 'l'], ['h', 'not'], ['not', 'not'], ['not', 'not'], ['not', 'not'], ['not', 'not'], ['not', 'j'], ['not', 'not'], ['not', 'not'], ['j', 'e'], ['c', 'not'], ['not', 'not'], ['not', 'not'], ['not', 'd'], ['c', 'j'], ['not', 'not'], ['not', 'not'], ['not', 'e'], ['not', 'not'], ['d', 'not'], ['not', 'd'], ['not', 'not'], ['not', 'not'], ['not', 'i'], ['not', 'f'], ['not', 'not'], ['a', 'not'], ['not', 'not'], ['not', 'h'], ['not', 'l'], ['not', 'h'], ['not', 'not'], ['not', 'not'], ['b', 'not'], ['k', 'not'], ['not', 'e'], ['i', 'not'], ['not', 'j'], ['b', 'not'], ['not', 'not'], ['not', 'not'], ['not', 'i'], ['not', 'not'], ['n', 'not'], ['not', 'not'], ['not', 'not'], ['not', 'not'], ['not', 'not'], ['not', 'not'], ['not', 'not'], ['not', 'not'], ['m', 'not'], ['not', 'b'], ['l', 'i'], ['not', 'not'], ['not', 'e'], ['d', 'not'], ['h', 'not'], ['not', 'h'], ['not', 'n'], ['not', 'not'], ['i', 'not'], ['not', 'k'], ['b', 'n'], ['not', 'not'], ['not', 'a'], ['g', 'e'], ['h', 'not'], ['not', 'not'], ['not', 'not'], ['not', 'not'], ['not', 'not'], ['not', 'not'], ['i', 'not'], ['not', 'not'], ['not', 'not'], ['not', 'not'], ['not', 'k'], ['f', 'not'], ['not', 'g'], ['g', 'not'], ['f', 'not'], ['not', 'not'], ['not', 'm'], ['i', 'not'], ['not', 'not'], ['not', 'not'], ['not', 'not'], ['j', 'not'], ['h', 'n'], ['c', 'not'], ['not', 'not'], ['not', 'not'], ['not', 'f'], ['not', 'h'], ['not', 'not'], ['k', 'not'], ['j', 'k'], ['not', 'not'], ['not', 'not'], ['not', 'not'], ['not', 'not'], ['not', 'not'], ['d', 'not'], ['g', 'not'], ['not', 'not'], ['not', 'not'], ['not', 'not'], ['m', 'j'], ['not', 'not'], ['e', 'not'], ['not', 'not'], ['not', 'not'], ['not', 'not'], ['not', 'not'], ['not', 'not'], ['not', 'not'], ['not', 'not'], ['not', 'g'], ['d', 'not'], ['not', 'b'], ['not', 'not'], ['m', 'not'], ['b', 'k'], ['not', 'not'], ['not', 'g'], ['not', 'not'], ['not', 'n'], ['k', 'not'], ['not', 'not'], ['not', 'not'], ['not', 'not'], ['not', 'b'], ['not', 'not'], ['l', 'not'], ['not', 'n'], ['k', 'a'], ['not', 'g'], ['k', 'not'], ['not', 'not'], ['i', 'not'], ['not', 'not'], ['not', 'f'], ['not', 'not'], ['not', 'j'], ['l', 'n'], ['not', 'not'], ['not', 'not'], ['not', 'not'], ['k', 'not'], ['not', 'not'], ['h', 'not'], ['not', 'not'], ['not', 'not'], ['not', 'not'], ['m', 'not'], ['not', 'not'], ['not', 'not'], ['not', 'not'], ['not', 'not'], ['h', 'not'], ['not', 'not'], ['g', 'not'], ['not', 'l'], ['not', 'j'], ['not', 'b'], ['not', 'not'], ['c', 'not'], ['b', 'not'], ['not', 'f'], ['not', 'not'], ['l', 'f'], ['not', 'e'], ['k', 'not'], ['not', 'not'], ['d', 'not'], ['not', 'not'], ['not', 'not'], ['not', 'not'], ['not', 'not'], ['not', 'l'], ['l', 'not'], ['not', 'not'], ['not', 'not'], ['d', 'not'], ['not', 'not'], ['not', 'k'], ['not', 'not'], ['n', 'not'], ['not', 'a'], ['not', 'n'], ['not', 'not'], ['not', 'not'], ['h', 'not'], ['not', 'h'], ['not', 'not'], ['not', 'not'], ['h', 'not'], ['not', 'i'], ['c', 'g'], ['e', 'not'], ['h', 'not'], ['not', 'not'], ['not', 'not'], ['not', 'not'], ['m', 'not'], ['not', 'not'], ['not', 'not'], ['not', 'not'], ['not', 'not'], ['not', 'not'], ['f', 'not'], ['not', 'not'], ['not', 'd'], ['not', 'k'], ['not', 'h'], ['m', 'c'], ['not', 'not'], ['not', 'not'], ['not', 'not'], ['not', 'not'], ['not', 'e'], ['not', 'h'], ['not', 'not'], ['not', 'not'], ['not', 'c'], ['e', 'not'], ['not', 'not'], ['not', 'not'], ['not', 'not'], ['not', 'not'], ['g', 'a'], ['k', 'k'], ['not', 'a'], ['not', 'i'], ['not', 'not'], ['not', 'not'], ['not', 'not'], ['not', 'a'], ['l', 'not'], ['not', 'not'], ['not', 'not'], ['not', 'not'], ['not', 'not'], ['not', 'not'], ['not', 'not'], ['not', 'not'], ['not', 'not'], ['not', 'not'], ['e', 'not'], ['f', 'c'], ['not', 'not'], ['not', 'not'], ['a', 'not'], ['i', 'm'], ['not', 'not'], ['not', 'not'], ['not', 'i'], ['not', 'not'], ['not', 'not'], ['j', 'a'], ['not', 'not'], ['n', 'not'], ['f', 'not'], ['not', 'not'], ['not', 'not'], ['e', 'not'], ['not', 'i'], ['not', 'not'], ['m', 'not'], ['not', 'not'], ['j', 'not'], ['not', 'not'], ['f', 'not'], ['f', 'b'], ['l', 'not'], ['not', 'j'], ['k', 'i'], ['not', 'not'], ['not', 'not'], ['b', 'not'], ['not', 'not'], ['j', 'not'], ['not', 'not'], ['not', 'n'], ['d', 'm'], ['not', 'not'], ['e', 'b'], ['not', 'not'], ['not', 'not'], ['not', 'not'], ['not', 'not'], ['not', 'not'], ['not', 'not'], ['not', 'not'], ['not', 'b'], ['e', 'not'], ['not', 'not'], ['f', 'not'], ['j', 'not'], ['not', 'not'], ['not', 'not'], ['not', 'h'], ['not', 'not'], ['k', 'not'], ['not', 'not'], ['g', 'not'], ['not', 'not'], ['not', 'not'], ['not', 'k'], ['e', 'not'], ['h', 'not'], ['not', 'j'], ['not', 'not'], ['not', 'k'], ['not', 'not'], ['f', 'not'], ['not', 'i'], ['l', 'not'], ['not', 'not'], ['not', 'not'], ['not', 'not'], ['not', 'not'], ['not', 'not'], ['not', 'not'], ['f', 'not'], ['not', 'not'], ['f', 'not'], ['not', 'not'], ['not', 'g'], ['not', 'not'], ['not', 'not'], ['not', 'e'], ['not', 'not'], ['not', 'not'], ['n', 'not'], ['j', 'not'], ['not', 'i'], ['l', 'not'], ['not', 'not'], ['h', 'h'], ['not', 'not'], ['not', 'not'], ['not', 'd'], ['not', 'e'], ['not', 'not'], ['not', 'not'], ['not', 'not'], ['f', 'g'], ['m', 'not'], ['not', 'a'], ['k', 'not'], ['j', 'f'], ['not', 'not'], ['not', 'm'], ['not', 'not'], ['g', 'not'], ['g', 'not'], ['m', 'not'], ['not', 'f'], ['not', 'not'], ['not', 'b'], ['not', 'not'], ['not', 'not'], ['not', 'not'], ['not', 'not'], ['k', 'g'], ['not', 'not'], ['not', 'not'], ['not', 'not'], ['not', 'e'], ['m', 'not'], ['not', 'not'], ['not', 'g'], ['not', 'not'], ['not', 'not'], ['not', 'not'], ['not', 'not'], ['not', 'm'], ['not', 'not'], ['c', 'not'], ['not', 'e'], ['h', 'not'], ['n', 'not'], ['not', 'not'], ['not', 'not'], ['not', 'not'], ['not', 'not'], ['j', 'd'], ['not', 'not'], ['not', 'not'], ['not', 'not'], ['b', 'not'], ['not', 'not'], ['n', 'k'], ['not', 'not'], ['not', 'n'], ['not', 'not'], ['not', 'f'], ['not', 'not'], ['not', 'not'], ['not', 'not'], ['not', 'm'], ['not', 'not'], ['e', 'not'], ['not', 'f'], ['not', 'h'], ['not', 'n'], ['not', 'not'], ['m', 'not'], ['not', 'j'], ['not', 'not'], ['f', 'not'], ['m', 'h'], ['l', 'not'], ['not', 'not'], ['j', 'not'], ['not', 'not'], ['g', 'not'], ['not', 'not'], ['l', 'k'], ['not', 'not'], ['not', 'not'], ['not', 'd'], ['not', 'not'], ['not', 'h'], ['not', 'g'], ['i', 'not'], ['not', 'n'], ['not', 'a'], ['not', 'not'], ['d', 'a'], ['not', 'not'], ['not', 'not'], ['g', 'not'], ['not', 'not'], ['not', 'not'], ['m', 'not'], ['not', 'not'], ['not', 'not'], ['not', 'not'], ['g', 'not'], ['not', 'not'], ['not', 'not'], ['not', 'not'], ['not', 'not'], ['not', 'not'], ['not', 'not'], ['not', 'm'], ['not', 'n'], ['not', 'not'], ['not', 'not'], ['a', 'not'], ['not', 'j'], ['not', 'l'], ['not', 'not'], ['m', 'not'], ['not', 'not'], ['m', 'not'], ['d', 'not'], ['c', 'k'], ['not', 'not'], ['not', 'not'], ['i', 'not'], ['not', 'd'], ['not', 'not'], ['not', 'not'], ['not', 'not'], ['c', 'not'], ['j', 'not'], ['not', 'not'], ['not', 'i'], ['not', 'not'], ['not', 'not'], ['not', 'not'], ['n', 'not'], ['not', 'n'], ['not', 'not'], ['not', 'k'], ['not', 'not'], ['not', 'not'], ['not', 'a'], ['not', 'b'], ['not', 'not'], ['not', 'not'], ['not', 'not'], ['not', 'not'], ['f', 'e'], ['not', 'f'], ['not', 'g'], ['not', 'f'], ['not', 'not'], ['not', 'not'], ['not', 'not'], ['not', 'not'], ['m', 'i'], ['not', 'not'], ['m', 'd'], ['not', 'f'], ['f', 'not'], ['not', 'not'], ['not', 'not'], ['not', 'not'], ['not', 'a'], ['not', 'not'], ['not', 'f'], ['not', 'not'], ['m', 'e'], ['k', 'f'], ['not', 'not'], ['not', 'not'], ['b', 'not'], ['not', 'not'], ['l', 'not'], ['not', 'not'], ['not', 'not'], ['not', 'not'], ['not', 'not'], ['not', 'not'], ['not', 'not'], ['not', 'c'], ['not', 'not'], ['not', 'not'], ['j', 'not'], ['not', 'l'], ['e', 'j'], ['m', 'not'], ['not', 'not'], ['not', 'not'], ['not', 'h'], ['not', 'not'], ['not', 'not'], ['not', 'not'], ['not', 'k'], ['not', 'not'], ['c', 'not'], ['not', 'm'], ['g', 'not'], ['not', 'not'], ['not', 'not'], ['not', 'not'], ['not', 'not'], ['not', 'a'], ['not', 'n'], ['not', 'not'], ['b', 'a'], ['not', 'j'], ['not', 'not'], ['not', 'not'], ['not', 'not'], ['h', 'not'], ['g', 'not'], ['n', 'not'], ['not', 'not'], ['not', 'not'], ['not', 'not'], ['a', 'h'], ['not', 'a'], ['c', 'b'], ['not', 'k'], ['c', 'not'], ['not', 'not'], ['i', 'f'], ['not', 'not'], ['m', 'g'], ['not', 'not'], ['not', 'not'], ['not', 'k'], ['not', 'not'], ['not', 'not'], ['i', 'e'], ['f', 'not'], ['k', 'not'], ['g', 'c'], ['not', 'not'], ['e', 'g'], ['not', 'not'], ['not', 'not'], ['not', 'l'], ['not', 'h'], ['not', 'not'], ['h', 'not'], ['h', 'a'], ['not', 'not'], ['g', 'j'], ['not', 'not'], ['not', 'not'], ['not', 'not'], ['not', 'not'], ['k', 'not'], ['not', 'not'], ['not', 'not'], ['not', 'not'], ['not', 'not'], ['not', 'not'], ['n', 'not'], ['not', 'not'], ['not', 'not'], ['n', 'not'], ['not', 'not'], ['i', 'not'], ['not', 'c'], ['not', 'a'], ['not', 'i'], ['not', 'j'], ['not', 'not'], ['not', 'e'], ['not', 'not'], ['not', 'not'], ['not', 'm'], ['not', 'not'], ['not', 'not'], ['i', 'not'], ['not', 'l'], ['a', 'l'], ['not', 'not'], ['not', 'not'], ['a', 'not'], ['not', 'not'], ['not', 'not'], ['j', 'not'], ['not', 'not'], ['not', 'not'], ['c', 'n'], ['not', 'c'], ['not', 'c'], ['e', 'not'], ['h', 'not'], ['not', 'i'], ['not', 'g'], ['not', 'not'], ['not', 'not'], ['not', 'k'], ['not', 'not'], ['not', 'not'], ['not', 'f'], ['b', 'not'], ['not', 'c'], ['not', 'not'], ['not', 'not'], ['not', 'n'], ['not', 'not'], ['not', 'b'], ['not', 'g'], ['not', 'not'], ['not', 'not'], ['not', 'not'], ['e', 'not'], ['not', 'g'], ['not', 'not'], ['not', 'g'], ['not', 'a'], ['not', 'not'], ['not', 'not'], ['e', 'not'], ['l', 'not'], ['not', 'not'], ['c', 'f'], ['not', 'not'], ['b', 'f'], ['not', 'not'], ['e', 'not'], ['k', 'b'], ['not', 'not'], ['h', 'not'], ['not', 'not'], ['n', 'not'], ['m', 'l'], ['not', 'not'], ['not', 'j'], ['not', 'g'], ['not', 'not'], ['not', 'k'], ['not', 'not'], ['not', 'not'], ['not', 'not'], ['b', 'not'], ['not', 'not'], ['not', 'not'], ['not', 'd'], ['not', 'not'], ['not', 'not'], ['not', 'not'], ['not', 'b'], ['not', 'j'], ['i', 'k'], ['not', 'not'], ['f', 'not'], ['n', 'not'], ['not', 'not'], ['not', 'not'], ['not', 'not'], ['not', 'not'], ['k', 'm'], ['l', 'a'], ['not', 'not'], ['g', 'not'], ['e', 'i'], ['not', 'e'], ['k', 'not'], ['not', 'not'], ['not', 'c'], ['j', 'b'], ['not', 'not'], ['l', 'not'], ['e', 'e'], ['not', 'not'], ['not', 'not'], ['not', 'not'], ['j', 'not'], ['f', 'not'], ['not', 'not'], ['not', 'not'], ['a', 'not'], ['not', 'not'], ['not', 'n'], ['not', 'not'], ['not', 'not'], ['not', 'k'], ['e', 'not'], ['not', 'k'], ['not', 'not'], ['not', 'not'], ['not', 'not'], ['a', 'b']]\n"
     ]
    },
    {
     "name": "stderr",
     "output_type": "stream",
     "text": [
      "Iteration 500: loss: 1.9954473972320557"
     ]
    },
    {
     "name": "stdout",
     "output_type": "stream",
     "text": [
      "             precision    recall  f1-score   support\n",
      "\n",
      "   disjoint       0.43      0.20      0.28        94\n",
      "      equal       0.00      0.00      0.00        12\n",
      "    neutral       0.67      1.00      0.80       363\n",
      "     subset       0.33      0.05      0.09        74\n",
      "   superset       0.45      0.13      0.20        77\n",
      "\n",
      "avg / total       0.55      0.64      0.55       620\n",
      "\n"
     ]
    },
    {
     "data": {
      "text/plain": [
       "<tf_rnn_classifier.TfRNNClassifier at 0x105ec6a20>"
      ]
     },
     "execution_count": 19,
     "metadata": {},
     "output_type": "execute_result"
    }
   ],
   "source": [
    "sim_experiment(train,\n",
    "               test, \n",
    "               embed_dim = 50, \n",
    "               hidden_dim=50, \n",
    "               max_iter=500,\n",
    "               eta = .2,\n",
    "               hidden_activation=tf.nn.relu)"
   ]
  },
  {
   "cell_type": "markdown",
   "metadata": {},
   "source": [
    "__Your tasks:__\n",
    "    \n",
    "1. Create a dataset that is the union of `base`, `neg1`, and a doubly negated version of `base`, where doubly negating `x` is achieved by `negate_dataset(negate_dataset(x))`.\n",
    "\n",
    "2. Use [sklearn.model_selection.train_test_split](http://scikit-learn.org/stable/modules/generated/sklearn.model_selection.train_test_split.html) to create a random split of this new dataset, with 0.70 of the data used for training and the rest used for testing. \n",
    "\n",
    "3. Use `sim_experiment` to evaluate your network on this split, and play around with the keyword arguments until you have an average F1-score at or above 0.55.\n",
    "\n",
    "__To submit:__\n",
    "\n",
    "* Your function call to `sim_experiment` showing the values of all the parameters."
   ]
  },
  {
   "cell_type": "markdown",
   "metadata": {},
   "source": [
    "## Question 4: Negation and generalization [2 points]\n",
    "\n",
    "So you got reasonably good results in the previous question. Has your model truly learned negation? To really address this question, we should see how it does on sequences of a length it hasn't seen before.\n",
    "\n",
    "__Your task__: \n",
    "\n",
    "Use your `sim_experiment` to train a network on the union of `base` and `neg1`, and evaluate it on the doubly negated dataset. By design, this means that your model will be evaluated on examples that are longer than those it was trained on. Use all the same keyword arguments to `sim_experiment` that you used for the previous question.\n",
    "\n",
    "__To submit__: \n",
    "\n",
    "* The printed classification report from your run (you can just paste it in).\n",
    "\n",
    "__A note on performance__: our mean F1 dropped a lot, and we expect it to drop for you too. You will not be evaluated based on the numbers you achieve, but rather only on whether you successfully run the required experiment.\n",
    "\n",
    "(If you did really well, go a step further, by testing on the triply negated version!)"
   ]
  },
  {
   "cell_type": "markdown",
   "metadata": {},
   "source": [
    "## Further reading\n",
    "\n",
    "* MacCartney and Manning (2007), [Natural Logic for Textual Inference](http://nlp.stanford.edu/~wcmac/papers/natlog-wtep07.pdf)\n",
    "\n",
    "* Bowman et al. (2015), [Tree-structured composition in neural networks without tree-structured architectures](https://arxiv.org/abs/1506.04834)\n",
    "\n",
    "* Lake and Baroni (2017), [Generalization without systematicity: On the compositional skills of sequence-to-sequence recurrent networks](https://arxiv.org/pdf/1711.00350.pdf)\n",
    "\n",
    "* Evans et al. (2018), [Can neural networks understand logical entailment?](https://arxiv.org/abs/1802.08535)"
   ]
  }
 ],
 "metadata": {
  "kernelspec": {
   "display_name": "Python 3",
   "language": "python",
   "name": "python3"
  },
  "language_info": {
   "codemirror_mode": {
    "name": "ipython",
    "version": 3
   },
   "file_extension": ".py",
   "mimetype": "text/x-python",
   "name": "python",
   "nbconvert_exporter": "python",
   "pygments_lexer": "ipython3",
   "version": "3.6.4"
  }
 },
 "nbformat": 4,
 "nbformat_minor": 2
}
